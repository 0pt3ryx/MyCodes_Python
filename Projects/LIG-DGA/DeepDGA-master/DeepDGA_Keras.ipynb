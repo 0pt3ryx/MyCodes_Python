{
 "cells": [
  {
   "cell_type": "markdown",
   "metadata": {},
   "source": [
    "# Highway Network"
   ]
  },
  {
   "cell_type": "code",
   "execution_count": 1,
   "metadata": {},
   "outputs": [
    {
     "name": "stderr",
     "output_type": "stream",
     "text": [
      "Using TensorFlow backend.\n"
     ]
    }
   ],
   "source": [
    "from keras import backend as K\n",
    "from keras.engine.topology import Layer\n",
    "from keras.layers import Dense, Activation, Multiply, Add, Lambda\n",
    "from keras.initializers import Constant\n",
    "\n",
    "\n",
    "class Highway(Layer):\n",
    "\n",
    "    activation = None\n",
    "    transform_gate_bias = None\n",
    "\n",
    "    def __init__(self, activation='relu', transform_gate_bias=-1, **kwargs):\n",
    "        self.activation = activation\n",
    "        self.transform_gate_bias = transform_gate_bias\n",
    "        super(Highway, self).__init__(**kwargs)\n",
    "\n",
    "    def build(self, input_shape):\n",
    "        # Create a trainable weight variable for this layer.\n",
    "        dim = input_shape[-1]\n",
    "        transform_gate_bias_initializer = Constant(self.transform_gate_bias)\n",
    "        input_shape_dense_1 = input_shape[-1]\n",
    "        self.dense_1 = Dense(units=dim, bias_initializer=transform_gate_bias_initializer)\n",
    "        self.dense_1.build(input_shape)\n",
    "        self.dense_2 = Dense(units=dim)\n",
    "        self.dense_2.build(input_shape)\n",
    "        self.trainable_weights = self.dense_1.trainable_weights + self.dense_2.trainable_weights\n",
    "\n",
    "        super(Highway, self).build(input_shape)  # Be sure to call this at the end\n",
    "\n",
    "    def call(self, x):\n",
    "        dim = K.int_shape(x)[-1]\n",
    "        transform_gate = self.dense_1(x)\n",
    "        transform_gate = Activation(\"sigmoid\")(transform_gate)\n",
    "        carry_gate = Lambda(lambda x: 1.0 - x, output_shape=(dim,))(transform_gate)\n",
    "        transformed_data = self.dense_2(x)\n",
    "        transformed_data = Activation(self.activation)(transformed_data)\n",
    "        transformed_gated = Multiply()([transform_gate, transformed_data])\n",
    "        identity_gated = Multiply()([carry_gate, x])\n",
    "        value = Add()([transformed_gated, identity_gated])\n",
    "        return value\n",
    "\n",
    "    def compute_output_shape(self, input_shape):\n",
    "        return input_shape\n",
    "\n",
    "    def get_config(self):\n",
    "        config = super().get_config()\n",
    "        config['activation'] = self.activation\n",
    "        config['transform_gate_bias'] = self.transform_gate_bias\n",
    "        return config"
   ]
  },
  {
   "cell_type": "markdown",
   "metadata": {},
   "source": [
    "# Libraries"
   ]
  },
  {
   "cell_type": "code",
   "execution_count": 2,
   "metadata": {},
   "outputs": [],
   "source": [
    "from keras.models import Sequential\n",
    "from keras.layers import Dense, Embedding, Conv1D, MaxPooling1D, concatenate, Permute, Reshape, LSTM, InputLayer, TimeDistributed\n",
    "from keras import Input, Model\n",
    "from keras.backend import transpose, slice\n",
    "from keras import backend as K\n",
    "\n",
    "import tensorflow as tf\n",
    "import numpy as np"
   ]
  },
  {
   "cell_type": "markdown",
   "metadata": {},
   "source": [
    "# Visualization"
   ]
  },
  {
   "cell_type": "code",
   "execution_count": 22,
   "metadata": {},
   "outputs": [
    {
     "data": {
      "image/svg+xml": [
       "<svg height=\"792pt\" viewBox=\"0.00 0.00 439.00 792.00\" width=\"439pt\" xmlns=\"http://www.w3.org/2000/svg\" xmlns:xlink=\"http://www.w3.org/1999/xlink\">\n",
       "<g class=\"graph\" id=\"graph0\" transform=\"scale(1 1) rotate(0) translate(4 788)\">\n",
       "<title>G</title>\n",
       "<polygon fill=\"white\" points=\"-4,4 -4,-788 435,-788 435,4 -4,4\" stroke=\"none\"/>\n",
       "<!-- 1975807223736 -->\n",
       "<g class=\"node\" id=\"node1\"><title>1975807223736</title>\n",
       "<polygon fill=\"none\" points=\"47,-664.5 47,-710.5 384,-710.5 384,-664.5 47,-664.5\" stroke=\"black\"/>\n",
       "<text font-family=\"Times New Roman,serif\" font-size=\"14.00\" text-anchor=\"middle\" x=\"142\" y=\"-683.8\">Embedding_Layer: Embedding</text>\n",
       "<polyline fill=\"none\" points=\"237,-664.5 237,-710.5 \" stroke=\"black\"/>\n",
       "<text font-family=\"Times New Roman,serif\" font-size=\"14.00\" text-anchor=\"middle\" x=\"265\" y=\"-695.3\">input:</text>\n",
       "<polyline fill=\"none\" points=\"237,-687.5 293,-687.5 \" stroke=\"black\"/>\n",
       "<text font-family=\"Times New Roman,serif\" font-size=\"14.00\" text-anchor=\"middle\" x=\"265\" y=\"-672.3\">output:</text>\n",
       "<polyline fill=\"none\" points=\"293,-664.5 293,-710.5 \" stroke=\"black\"/>\n",
       "<text font-family=\"Times New Roman,serif\" font-size=\"14.00\" text-anchor=\"middle\" x=\"338.5\" y=\"-695.3\">(None, 3)</text>\n",
       "<polyline fill=\"none\" points=\"293,-687.5 384,-687.5 \" stroke=\"black\"/>\n",
       "<text font-family=\"Times New Roman,serif\" font-size=\"14.00\" text-anchor=\"middle\" x=\"338.5\" y=\"-672.3\">(None, 3, 20)</text>\n",
       "</g>\n",
       "<!-- 1975807104280 -->\n",
       "<g class=\"node\" id=\"node2\"><title>1975807104280</title>\n",
       "<polygon fill=\"none\" points=\"64,-581.5 64,-627.5 367,-627.5 367,-581.5 64,-581.5\" stroke=\"black\"/>\n",
       "<text font-family=\"Times New Roman,serif\" font-size=\"14.00\" text-anchor=\"middle\" x=\"142\" y=\"-600.8\">Conv_Max_Pool: Model</text>\n",
       "<polyline fill=\"none\" points=\"220,-581.5 220,-627.5 \" stroke=\"black\"/>\n",
       "<text font-family=\"Times New Roman,serif\" font-size=\"14.00\" text-anchor=\"middle\" x=\"248\" y=\"-612.3\">input:</text>\n",
       "<polyline fill=\"none\" points=\"220,-604.5 276,-604.5 \" stroke=\"black\"/>\n",
       "<text font-family=\"Times New Roman,serif\" font-size=\"14.00\" text-anchor=\"middle\" x=\"248\" y=\"-589.3\">output:</text>\n",
       "<polyline fill=\"none\" points=\"276,-581.5 276,-627.5 \" stroke=\"black\"/>\n",
       "<text font-family=\"Times New Roman,serif\" font-size=\"14.00\" text-anchor=\"middle\" x=\"321.5\" y=\"-612.3\">(None, 3, 20)</text>\n",
       "<polyline fill=\"none\" points=\"276,-604.5 367,-604.5 \" stroke=\"black\"/>\n",
       "<text font-family=\"Times New Roman,serif\" font-size=\"14.00\" text-anchor=\"middle\" x=\"321.5\" y=\"-589.3\">(None, 3, 32)</text>\n",
       "</g>\n",
       "<!-- 1975807223736&#45;&gt;1975807104280 -->\n",
       "<g class=\"edge\" id=\"edge2\"><title>1975807223736-&gt;1975807104280</title>\n",
       "<path d=\"M215.5,-664.366C215.5,-656.152 215.5,-646.658 215.5,-637.725\" fill=\"none\" stroke=\"black\"/>\n",
       "<polygon fill=\"black\" points=\"219,-637.607 215.5,-627.607 212,-637.607 219,-637.607\" stroke=\"black\"/>\n",
       "</g>\n",
       "<!-- 1975761767952 -->\n",
       "<g class=\"node\" id=\"node3\"><title>1975761767952</title>\n",
       "<polygon fill=\"none\" points=\"70.5,-498.5 70.5,-544.5 360.5,-544.5 360.5,-498.5 70.5,-498.5\" stroke=\"black\"/>\n",
       "<text font-family=\"Times New Roman,serif\" font-size=\"14.00\" text-anchor=\"middle\" x=\"142\" y=\"-517.8\">En_Highway: Highway</text>\n",
       "<polyline fill=\"none\" points=\"213.5,-498.5 213.5,-544.5 \" stroke=\"black\"/>\n",
       "<text font-family=\"Times New Roman,serif\" font-size=\"14.00\" text-anchor=\"middle\" x=\"241.5\" y=\"-529.3\">input:</text>\n",
       "<polyline fill=\"none\" points=\"213.5,-521.5 269.5,-521.5 \" stroke=\"black\"/>\n",
       "<text font-family=\"Times New Roman,serif\" font-size=\"14.00\" text-anchor=\"middle\" x=\"241.5\" y=\"-506.3\">output:</text>\n",
       "<polyline fill=\"none\" points=\"269.5,-498.5 269.5,-544.5 \" stroke=\"black\"/>\n",
       "<text font-family=\"Times New Roman,serif\" font-size=\"14.00\" text-anchor=\"middle\" x=\"315\" y=\"-529.3\">(None, 3, 32)</text>\n",
       "<polyline fill=\"none\" points=\"269.5,-521.5 360.5,-521.5 \" stroke=\"black\"/>\n",
       "<text font-family=\"Times New Roman,serif\" font-size=\"14.00\" text-anchor=\"middle\" x=\"315\" y=\"-506.3\">(None, 3, 32)</text>\n",
       "</g>\n",
       "<!-- 1975807104280&#45;&gt;1975761767952 -->\n",
       "<g class=\"edge\" id=\"edge3\"><title>1975807104280-&gt;1975761767952</title>\n",
       "<path d=\"M215.5,-581.366C215.5,-573.152 215.5,-563.658 215.5,-554.725\" fill=\"none\" stroke=\"black\"/>\n",
       "<polygon fill=\"black\" points=\"219,-554.607 215.5,-544.607 212,-554.607 219,-554.607\" stroke=\"black\"/>\n",
       "</g>\n",
       "<!-- 1975807097992 -->\n",
       "<g class=\"node\" id=\"node4\"><title>1975807097992</title>\n",
       "<polygon fill=\"none\" points=\"81.5,-415.5 81.5,-461.5 349.5,-461.5 349.5,-415.5 81.5,-415.5\" stroke=\"black\"/>\n",
       "<text font-family=\"Times New Roman,serif\" font-size=\"14.00\" text-anchor=\"middle\" x=\"142\" y=\"-434.8\">En_LSTM: LSTM</text>\n",
       "<polyline fill=\"none\" points=\"202.5,-415.5 202.5,-461.5 \" stroke=\"black\"/>\n",
       "<text font-family=\"Times New Roman,serif\" font-size=\"14.00\" text-anchor=\"middle\" x=\"230.5\" y=\"-446.3\">input:</text>\n",
       "<polyline fill=\"none\" points=\"202.5,-438.5 258.5,-438.5 \" stroke=\"black\"/>\n",
       "<text font-family=\"Times New Roman,serif\" font-size=\"14.00\" text-anchor=\"middle\" x=\"230.5\" y=\"-423.3\">output:</text>\n",
       "<polyline fill=\"none\" points=\"258.5,-415.5 258.5,-461.5 \" stroke=\"black\"/>\n",
       "<text font-family=\"Times New Roman,serif\" font-size=\"14.00\" text-anchor=\"middle\" x=\"304\" y=\"-446.3\">(None, 3, 32)</text>\n",
       "<polyline fill=\"none\" points=\"258.5,-438.5 349.5,-438.5 \" stroke=\"black\"/>\n",
       "<text font-family=\"Times New Roman,serif\" font-size=\"14.00\" text-anchor=\"middle\" x=\"304\" y=\"-423.3\">(None, 3, 50)</text>\n",
       "</g>\n",
       "<!-- 1975761767952&#45;&gt;1975807097992 -->\n",
       "<g class=\"edge\" id=\"edge4\"><title>1975761767952-&gt;1975807097992</title>\n",
       "<path d=\"M215.5,-498.366C215.5,-490.152 215.5,-480.658 215.5,-471.725\" fill=\"none\" stroke=\"black\"/>\n",
       "<polygon fill=\"black\" points=\"219,-471.607 215.5,-461.607 212,-471.607 219,-471.607\" stroke=\"black\"/>\n",
       "</g>\n",
       "<!-- 1975807252744 -->\n",
       "<g class=\"node\" id=\"node5\"><title>1975807252744</title>\n",
       "<polygon fill=\"none\" points=\"81,-332.5 81,-378.5 350,-378.5 350,-332.5 81,-332.5\" stroke=\"black\"/>\n",
       "<text font-family=\"Times New Roman,serif\" font-size=\"14.00\" text-anchor=\"middle\" x=\"142\" y=\"-351.8\">De_LSTM: LSTM</text>\n",
       "<polyline fill=\"none\" points=\"203,-332.5 203,-378.5 \" stroke=\"black\"/>\n",
       "<text font-family=\"Times New Roman,serif\" font-size=\"14.00\" text-anchor=\"middle\" x=\"231\" y=\"-363.3\">input:</text>\n",
       "<polyline fill=\"none\" points=\"203,-355.5 259,-355.5 \" stroke=\"black\"/>\n",
       "<text font-family=\"Times New Roman,serif\" font-size=\"14.00\" text-anchor=\"middle\" x=\"231\" y=\"-340.3\">output:</text>\n",
       "<polyline fill=\"none\" points=\"259,-332.5 259,-378.5 \" stroke=\"black\"/>\n",
       "<text font-family=\"Times New Roman,serif\" font-size=\"14.00\" text-anchor=\"middle\" x=\"304.5\" y=\"-363.3\">(None, 3, 50)</text>\n",
       "<polyline fill=\"none\" points=\"259,-355.5 350,-355.5 \" stroke=\"black\"/>\n",
       "<text font-family=\"Times New Roman,serif\" font-size=\"14.00\" text-anchor=\"middle\" x=\"304.5\" y=\"-340.3\">(None, 3, 32)</text>\n",
       "</g>\n",
       "<!-- 1975807097992&#45;&gt;1975807252744 -->\n",
       "<g class=\"edge\" id=\"edge5\"><title>1975807097992-&gt;1975807252744</title>\n",
       "<path d=\"M215.5,-415.366C215.5,-407.152 215.5,-397.658 215.5,-388.725\" fill=\"none\" stroke=\"black\"/>\n",
       "<polygon fill=\"black\" points=\"219,-388.607 215.5,-378.607 212,-388.607 219,-388.607\" stroke=\"black\"/>\n",
       "</g>\n",
       "<!-- 1975807252800 -->\n",
       "<g class=\"node\" id=\"node6\"><title>1975807252800</title>\n",
       "<polygon fill=\"none\" points=\"70,-249.5 70,-295.5 361,-295.5 361,-249.5 70,-249.5\" stroke=\"black\"/>\n",
       "<text font-family=\"Times New Roman,serif\" font-size=\"14.00\" text-anchor=\"middle\" x=\"142\" y=\"-268.8\">De_Highway: Highway</text>\n",
       "<polyline fill=\"none\" points=\"214,-249.5 214,-295.5 \" stroke=\"black\"/>\n",
       "<text font-family=\"Times New Roman,serif\" font-size=\"14.00\" text-anchor=\"middle\" x=\"242\" y=\"-280.3\">input:</text>\n",
       "<polyline fill=\"none\" points=\"214,-272.5 270,-272.5 \" stroke=\"black\"/>\n",
       "<text font-family=\"Times New Roman,serif\" font-size=\"14.00\" text-anchor=\"middle\" x=\"242\" y=\"-257.3\">output:</text>\n",
       "<polyline fill=\"none\" points=\"270,-249.5 270,-295.5 \" stroke=\"black\"/>\n",
       "<text font-family=\"Times New Roman,serif\" font-size=\"14.00\" text-anchor=\"middle\" x=\"315.5\" y=\"-280.3\">(None, 3, 32)</text>\n",
       "<polyline fill=\"none\" points=\"270,-272.5 361,-272.5 \" stroke=\"black\"/>\n",
       "<text font-family=\"Times New Roman,serif\" font-size=\"14.00\" text-anchor=\"middle\" x=\"315.5\" y=\"-257.3\">(None, 3, 32)</text>\n",
       "</g>\n",
       "<!-- 1975807252744&#45;&gt;1975807252800 -->\n",
       "<g class=\"edge\" id=\"edge6\"><title>1975807252744-&gt;1975807252800</title>\n",
       "<path d=\"M215.5,-332.366C215.5,-324.152 215.5,-314.658 215.5,-305.725\" fill=\"none\" stroke=\"black\"/>\n",
       "<polygon fill=\"black\" points=\"219,-305.607 215.5,-295.607 212,-305.607 219,-305.607\" stroke=\"black\"/>\n",
       "</g>\n",
       "<!-- 1975985577432 -->\n",
       "<g class=\"node\" id=\"node7\"><title>1975985577432</title>\n",
       "<polygon fill=\"none\" points=\"97,-166.5 97,-212.5 334,-212.5 334,-166.5 97,-166.5\" stroke=\"black\"/>\n",
       "<text font-family=\"Times New Roman,serif\" font-size=\"14.00\" text-anchor=\"middle\" x=\"142\" y=\"-185.8\">Conv: Model</text>\n",
       "<polyline fill=\"none\" points=\"187,-166.5 187,-212.5 \" stroke=\"black\"/>\n",
       "<text font-family=\"Times New Roman,serif\" font-size=\"14.00\" text-anchor=\"middle\" x=\"215\" y=\"-197.3\">input:</text>\n",
       "<polyline fill=\"none\" points=\"187,-189.5 243,-189.5 \" stroke=\"black\"/>\n",
       "<text font-family=\"Times New Roman,serif\" font-size=\"14.00\" text-anchor=\"middle\" x=\"215\" y=\"-174.3\">output:</text>\n",
       "<polyline fill=\"none\" points=\"243,-166.5 243,-212.5 \" stroke=\"black\"/>\n",
       "<text font-family=\"Times New Roman,serif\" font-size=\"14.00\" text-anchor=\"middle\" x=\"288.5\" y=\"-197.3\">(None, 3, 32)</text>\n",
       "<polyline fill=\"none\" points=\"243,-189.5 334,-189.5 \" stroke=\"black\"/>\n",
       "<text font-family=\"Times New Roman,serif\" font-size=\"14.00\" text-anchor=\"middle\" x=\"288.5\" y=\"-174.3\">(None, 3, 30)</text>\n",
       "</g>\n",
       "<!-- 1975807252800&#45;&gt;1975985577432 -->\n",
       "<g class=\"edge\" id=\"edge7\"><title>1975807252800-&gt;1975985577432</title>\n",
       "<path d=\"M215.5,-249.366C215.5,-241.152 215.5,-231.658 215.5,-222.725\" fill=\"none\" stroke=\"black\"/>\n",
       "<polygon fill=\"black\" points=\"219,-222.607 215.5,-212.607 212,-222.607 219,-222.607\" stroke=\"black\"/>\n",
       "</g>\n",
       "<!-- 1975985802600 -->\n",
       "<g class=\"node\" id=\"node8\"><title>1975985802600</title>\n",
       "<polygon fill=\"none\" points=\"0,-83.5 0,-129.5 431,-129.5 431,-83.5 0,-83.5\" stroke=\"black\"/>\n",
       "<text font-family=\"Times New Roman,serif\" font-size=\"14.00\" text-anchor=\"middle\" x=\"142\" y=\"-102.8\">Multionimal(dense_15): TimeDistributed(Dense)</text>\n",
       "<polyline fill=\"none\" points=\"284,-83.5 284,-129.5 \" stroke=\"black\"/>\n",
       "<text font-family=\"Times New Roman,serif\" font-size=\"14.00\" text-anchor=\"middle\" x=\"312\" y=\"-114.3\">input:</text>\n",
       "<polyline fill=\"none\" points=\"284,-106.5 340,-106.5 \" stroke=\"black\"/>\n",
       "<text font-family=\"Times New Roman,serif\" font-size=\"14.00\" text-anchor=\"middle\" x=\"312\" y=\"-91.3\">output:</text>\n",
       "<polyline fill=\"none\" points=\"340,-83.5 340,-129.5 \" stroke=\"black\"/>\n",
       "<text font-family=\"Times New Roman,serif\" font-size=\"14.00\" text-anchor=\"middle\" x=\"385.5\" y=\"-114.3\">(None, 3, 30)</text>\n",
       "<polyline fill=\"none\" points=\"340,-106.5 431,-106.5 \" stroke=\"black\"/>\n",
       "<text font-family=\"Times New Roman,serif\" font-size=\"14.00\" text-anchor=\"middle\" x=\"385.5\" y=\"-91.3\">(None, 3, 1)</text>\n",
       "</g>\n",
       "<!-- 1975985577432&#45;&gt;1975985802600 -->\n",
       "<g class=\"edge\" id=\"edge8\"><title>1975985577432-&gt;1975985802600</title>\n",
       "<path d=\"M215.5,-166.366C215.5,-158.152 215.5,-148.658 215.5,-139.725\" fill=\"none\" stroke=\"black\"/>\n",
       "<polygon fill=\"black\" points=\"219,-139.607 215.5,-129.607 212,-139.607 219,-139.607\" stroke=\"black\"/>\n",
       "</g>\n",
       "<!-- 1975985802040 -->\n",
       "<g class=\"node\" id=\"node9\"><title>1975985802040</title>\n",
       "<polygon fill=\"none\" points=\"81.5,-0.5 81.5,-46.5 349.5,-46.5 349.5,-0.5 81.5,-0.5\" stroke=\"black\"/>\n",
       "<text font-family=\"Times New Roman,serif\" font-size=\"14.00\" text-anchor=\"middle\" x=\"145.5\" y=\"-19.8\">reshape_5: Reshape</text>\n",
       "<polyline fill=\"none\" points=\"209.5,-0.5 209.5,-46.5 \" stroke=\"black\"/>\n",
       "<text font-family=\"Times New Roman,serif\" font-size=\"14.00\" text-anchor=\"middle\" x=\"237.5\" y=\"-31.3\">input:</text>\n",
       "<polyline fill=\"none\" points=\"209.5,-23.5 265.5,-23.5 \" stroke=\"black\"/>\n",
       "<text font-family=\"Times New Roman,serif\" font-size=\"14.00\" text-anchor=\"middle\" x=\"237.5\" y=\"-8.3\">output:</text>\n",
       "<polyline fill=\"none\" points=\"265.5,-0.5 265.5,-46.5 \" stroke=\"black\"/>\n",
       "<text font-family=\"Times New Roman,serif\" font-size=\"14.00\" text-anchor=\"middle\" x=\"307.5\" y=\"-31.3\">(None, 3, 1)</text>\n",
       "<polyline fill=\"none\" points=\"265.5,-23.5 349.5,-23.5 \" stroke=\"black\"/>\n",
       "<text font-family=\"Times New Roman,serif\" font-size=\"14.00\" text-anchor=\"middle\" x=\"307.5\" y=\"-8.3\">(None, 3)</text>\n",
       "</g>\n",
       "<!-- 1975985802600&#45;&gt;1975985802040 -->\n",
       "<g class=\"edge\" id=\"edge9\"><title>1975985802600-&gt;1975985802040</title>\n",
       "<path d=\"M215.5,-83.3664C215.5,-75.1516 215.5,-65.6579 215.5,-56.7252\" fill=\"none\" stroke=\"black\"/>\n",
       "<polygon fill=\"black\" points=\"219,-56.6068 215.5,-46.6068 212,-56.6069 219,-56.6068\" stroke=\"black\"/>\n",
       "</g>\n",
       "<!-- 1975807223456 -->\n",
       "<g class=\"node\" id=\"node10\"><title>1975807223456</title>\n",
       "<polygon fill=\"none\" points=\"163.5,-747.5 163.5,-783.5 267.5,-783.5 267.5,-747.5 163.5,-747.5\" stroke=\"black\"/>\n",
       "<text font-family=\"Times New Roman,serif\" font-size=\"14.00\" text-anchor=\"middle\" x=\"215.5\" y=\"-761.8\">1975807223456</text>\n",
       "</g>\n",
       "<!-- 1975807223456&#45;&gt;1975807223736 -->\n",
       "<g class=\"edge\" id=\"edge1\"><title>1975807223456-&gt;1975807223736</title>\n",
       "<path d=\"M215.5,-747.254C215.5,-739.363 215.5,-729.749 215.5,-720.602\" fill=\"none\" stroke=\"black\"/>\n",
       "<polygon fill=\"black\" points=\"219,-720.591 215.5,-710.591 212,-720.591 219,-720.591\" stroke=\"black\"/>\n",
       "</g>\n",
       "</g>\n",
       "</svg>"
      ],
      "text/plain": [
       "<IPython.core.display.SVG object>"
      ]
     },
     "execution_count": 22,
     "metadata": {},
     "output_type": "execute_result"
    }
   ],
   "source": [
    "from IPython.display import SVG\n",
    "from keras.utils.vis_utils import model_to_dot\n",
    "\n",
    "%matplotlib inline\n",
    "\n",
    "SVG(model_to_dot(model, show_shapes=True).create(prog='dot', format='svg'))"
   ]
  },
  {
   "cell_type": "code",
   "execution_count": 23,
   "metadata": {},
   "outputs": [
    {
     "name": "stdout",
     "output_type": "stream",
     "text": [
      "_________________________________________________________________\n",
      "Layer (type)                 Output Shape              Param #   \n",
      "=================================================================\n",
      "Embedding_Layer (Embedding)  (None, 3, 20)             740       \n",
      "_________________________________________________________________\n",
      "Conv_Max_Pool (Model)        (None, 3, 32)             1430      \n",
      "_________________________________________________________________\n",
      "En_Highway (Highway)         (None, 3, 32)             2112      \n",
      "_________________________________________________________________\n",
      "En_LSTM (LSTM)               (None, 3, 50)             16600     \n",
      "_________________________________________________________________\n",
      "De_LSTM (LSTM)               (None, 3, 32)             10624     \n",
      "_________________________________________________________________\n",
      "De_Highway (Highway)         (None, 3, 32)             2112      \n",
      "_________________________________________________________________\n",
      "Conv (Model)                 (None, 3, 30)             2270      \n",
      "_________________________________________________________________\n",
      "Multionimal (TimeDistributed (None, 3, 1)              31        \n",
      "_________________________________________________________________\n",
      "reshape_5 (Reshape)          (None, 3)                 0         \n",
      "=================================================================\n",
      "Total params: 35,919\n",
      "Trainable params: 35,919\n",
      "Non-trainable params: 0\n",
      "_________________________________________________________________\n"
     ]
    }
   ],
   "source": [
    "model.summary()"
   ]
  },
  {
   "cell_type": "markdown",
   "metadata": {},
   "source": [
    "# Building Model"
   ]
  },
  {
   "cell_type": "code",
   "execution_count": 20,
   "metadata": {},
   "outputs": [
    {
     "name": "stderr",
     "output_type": "stream",
     "text": [
      "C:\\Users\\JeongDo\\Anaconda3\\lib\\site-packages\\ipykernel_launcher.py:36: UserWarning: Update your `Model` call to the Keras 2 API: `Model(name=\"Conv_Max_Pool\", inputs=Tensor(\"in..., outputs=Tensor(\"co...)`\n"
     ]
    }
   ],
   "source": [
    "# Modify 'num_of_train_domains' and 'max_domain_length'\n",
    "num_of_train_domains = 1200000\n",
    "# max_domain_length = 47\n",
    "max_domain_length = 3\n",
    "char_vocab_size = 37\n",
    "char_embed_size = 20\n",
    "\n",
    "model = Sequential()\n",
    "model.add(Embedding(char_vocab_size, char_embed_size, input_length=max_domain_length, name='Embedding_Layer'))\n",
    "\n",
    "conv_input = Input(shape=(max_domain_length, char_embed_size))\n",
    "\n",
    "# num_of_filters_bi = 20\n",
    "# num_of_filters_tri = 10\n",
    "\n",
    "conv_bi = Conv1D(20, 2, strides=1, padding='same')(conv_input)\n",
    "conv_tri = Conv1D(10, 3, strides=1, padding='same')(conv_input)\n",
    "conv_concat = concatenate([conv_bi, conv_tri], axis=2)\n",
    "max_over_time_pooling = MaxPooling1D(pool_size=(conv_concat.get_shape()[1], ), padding='same')(conv_concat)\n",
    "max_over_time_pooling = Reshape((1, 10+20))(max_over_time_pooling)\n",
    "\n",
    "reshape_conv_bi = Permute((2, 1))(conv_bi)\n",
    "reshape_conv_tri = Permute((2, 1))(conv_tri)\n",
    "max_over_filter_pooling_bi = MaxPooling1D(pool_size=(reshape_conv_bi.get_shape()[1], ), padding='same')(reshape_conv_bi)\n",
    "max_over_filter_pooling_tri = MaxPooling1D(pool_size=(reshape_conv_tri.get_shape()[1], ), padding='same')(reshape_conv_tri)\n",
    "\n",
    "max_pooling_layers = list()\n",
    "for idx in range(max_domain_length):\n",
    "    sliced_bi = Lambda(lambda x: x[:, :, idx:idx+1])(max_over_filter_pooling_bi)\n",
    "    sliced_tri = Lambda(lambda x: x[:, :, idx:idx+1])(max_over_filter_pooling_tri)\n",
    "    \n",
    "    single_pooling = concatenate([max_over_time_pooling, sliced_bi, sliced_tri], axis=2)\n",
    "    max_pooling_layers.append(single_pooling)\n",
    "\n",
    "conv_pooling = concatenate(max_pooling_layers, axis=1)\n",
    "model.add(Model(input=conv_input, output=conv_pooling, name='Conv_Max_Pool'))\n",
    "model.add(Highway(name='En_Highway'))\n",
    "model.add(LSTM(50, return_sequences=True, name='En_LSTM'))\n",
    "\n",
    "\n",
    "\"\"\"\n",
    "for idx in range(max_domain_length):\n",
    "    start_idx = idx\n",
    "    \n",
    "    if idx < max_domain_length-1:\n",
    "        kernel_len_bi = 2\n",
    "    else:\n",
    "        kernel_len_bi = 1\n",
    "    \n",
    "    if idx < max_domain_length-2:\n",
    "        kernel_len_tri = 3\n",
    "    elif idx == max_domain_length-2:\n",
    "        kernel_len_tri = 2\n",
    "    else:\n",
    "        kernel_len_tri = 1\n",
    "\n",
    "    sliced_bi = Lambda(lambda x: x[:, start_idx:start_idx+2, :])(conv_input)\n",
    "    conv_bi = Conv1D(20, kernel_len_bi, strides=1, padding='same')(sliced_bi)\n",
    "    pool1_bi = MaxPooling1D(pool_size=(conv_bi.get_shape()[1],), padding='same')(conv_bi)\n",
    "    re_pool1_bi = Reshape((1, 20))(pool1_bi)\n",
    "    \n",
    "    per_pool1_bi = Permute((2, 1))(re_pool1_bi)\n",
    "    pool2_bi = MaxPooling1D(pool_size=(per_pool1_bi.get_shape()[1],), padding='same')(per_pool1_bi)\n",
    "    re_pool2_bi = Reshape((1, 1))(pool2_bi)\n",
    "\n",
    "    sliced_tri = Lambda(lambda x: x[:, start_idx:start_idx+kernel_len_tri, :])(conv_input)\n",
    "    conv_tri = Conv1D(10, kernel_len_tri, strides=1, padding='same')(sliced_tri)\n",
    "    pool1_tri = MaxPooling1D(pool_size=(conv_tri.get_shape()[1],), padding='same')(conv_tri)\n",
    "    re_pool1_tri = Reshape((1, 10))(pool1_tri)\n",
    "\n",
    "    per_pool1_tri = Permute((2, 1))(re_pool1_tri)\n",
    "    pool2_tri = MaxPooling1D(pool_size=(per_pool1_tri.get_shape()[1],), padding='same')(per_pool1_tri)\n",
    "    re_pool2_tri = Reshape((1, 1))(pool2_tri)\n",
    "\n",
    "    conv_out = concatenate([re_pool1_bi, re_pool2_bi, re_pool1_tri, re_pool2_tri], axis=2)\n",
    "    max_pooling_layers.append(conv_out)\n",
    "\"\"\"\n",
    "\n",
    "# conv_out_over_time = concatenate(max_pooling_layers, axis=1)\n",
    "# model.add(Model(input=conv_input, output=conv_out_over_time))\n",
    "# model.add(Highway())\n",
    "# model.add(LSTM(50, return_sequences=True))\n",
    "pass"
   ]
  },
  {
   "cell_type": "code",
   "execution_count": 21,
   "metadata": {},
   "outputs": [
    {
     "name": "stderr",
     "output_type": "stream",
     "text": [
      "C:\\Users\\JeongDo\\Anaconda3\\lib\\site-packages\\ipykernel_launcher.py:13: UserWarning: Update your `Model` call to the Keras 2 API: `Model(name=\"Conv\", inputs=Tensor(\"in..., outputs=Tensor(\"co...)`\n",
      "  del sys.path[0]\n"
     ]
    }
   ],
   "source": [
    "model.add(LSTM(32, return_sequences=True, name='De_LSTM'))\n",
    "model.add(Highway(name='De_Highway'))\n",
    "\n",
    "conv_input = Input(shape=(max_domain_length, 32))\n",
    "conv_layers = list()\n",
    "\n",
    "conv_bi = Conv1D(20, 2, strides=1, padding='same')(conv_input)\n",
    "conv_tri = Conv1D(10, 3, strides=1, padding='same')(conv_input)\n",
    "conv_out = concatenate([conv_bi, conv_tri], axis=2)\n",
    "\n",
    "# conv_out_over_time = concatenate(conv_layers, axis=1)\n",
    "\n",
    "model.add(Model(input=conv_input, output=conv_out, name='Conv'))\n",
    "model.add(TimeDistributed(Dense(1), name='Multionimal'))\n",
    "model.add(Reshape((max_domain_length,) ))"
   ]
  },
  {
   "cell_type": "code",
   "execution_count": null,
   "metadata": {},
   "outputs": [],
   "source": []
  },
  {
   "cell_type": "code",
   "execution_count": 5,
   "metadata": {},
   "outputs": [
    {
     "name": "stdout",
     "output_type": "stream",
     "text": [
      "(3,)\n",
      "(1, 3)\n"
     ]
    }
   ],
   "source": [
    "arr_list = list()\n",
    "for _ in range(1):\n",
    "    a = np.random.choice(37, 3, replace=True)\n",
    "    arr_list.append(a)\n",
    "\n",
    "print(a.shape)\n",
    "a = np.expand_dims(a, axis=0)\n",
    "print(a.shape)"
   ]
  },
  {
   "cell_type": "code",
   "execution_count": 6,
   "metadata": {},
   "outputs": [
    {
     "name": "stderr",
     "output_type": "stream",
     "text": [
      "W0823 18:28:54.626566 30040 deprecation_wrapper.py:119] From C:\\Users\\JeongDo\\Anaconda3\\lib\\site-packages\\keras\\backend\\tensorflow_backend.py:133: The name tf.placeholder_with_default is deprecated. Please use tf.compat.v1.placeholder_with_default instead.\n",
      "\n",
      "W0823 18:28:54.629535 30040 deprecation_wrapper.py:119] From C:\\Users\\JeongDo\\Anaconda3\\lib\\site-packages\\keras\\backend\\tensorflow_backend.py:174: The name tf.get_default_session is deprecated. Please use tf.compat.v1.get_default_session instead.\n",
      "\n"
     ]
    },
    {
     "name": "stdout",
     "output_type": "stream",
     "text": [
      "start\n"
     ]
    }
   ],
   "source": [
    "inp = model.input\n",
    "# outputs = [layer.output for layer in model.layers]\n",
    "# outputs = [model.layers[0].output, model.layers[1].get_output_at(0), model.layers[1].get_output_at(1)]\n",
    "outputs = [model.layers[0].output]\n",
    "functors = [K.function([inp, K.learning_phase()], [out]) for out in outputs]\n",
    "\n",
    "# print(test_data)\n",
    "print('start')\n",
    "layer_outs1 = [func([a, 0.]) for func in functors]\n",
    "# print(layer_outs)"
   ]
  },
  {
   "cell_type": "code",
   "execution_count": null,
   "metadata": {},
   "outputs": [],
   "source": []
  },
  {
   "cell_type": "code",
   "execution_count": 7,
   "metadata": {},
   "outputs": [
    {
     "data": {
      "text/plain": [
       "(1, 3, 20)"
      ]
     },
     "execution_count": 7,
     "metadata": {},
     "output_type": "execute_result"
    }
   ],
   "source": [
    "layer_outs1[0][0].shape"
   ]
  },
  {
   "cell_type": "code",
   "execution_count": 30,
   "metadata": {},
   "outputs": [
    {
     "data": {
      "text/plain": [
       "array([[[ 0.03429892, -0.01297622, -0.01703604,  0.00700948,\n",
       "          0.0305844 , -0.04628355,  0.04063812, -0.00726911,\n",
       "         -0.0154065 , -0.02788848, -0.04279457,  0.00851882,\n",
       "         -0.04704212,  0.00402294,  0.04932003,  0.01286652,\n",
       "          0.02716878, -0.00761076, -0.04266503,  0.02646952],\n",
       "        [-0.01618462, -0.00267726,  0.02506658,  0.00699638,\n",
       "         -0.03243098,  0.04445073, -0.02897645, -0.0258403 ,\n",
       "          0.00337275, -0.01355617,  0.03063091,  0.04758449,\n",
       "         -0.00013169, -0.01900047,  0.00961645,  0.03558942,\n",
       "         -0.00989486, -0.00181296, -0.04358155, -0.02634844],\n",
       "        [-0.01076403, -0.01578716, -0.04211899,  0.01627561,\n",
       "         -0.02608323, -0.00339445,  0.0454053 , -0.045424  ,\n",
       "         -0.01200674,  0.00022353, -0.00312232,  0.02169161,\n",
       "         -0.01678878,  0.03723394, -0.02525081,  0.0086476 ,\n",
       "          0.0151565 , -0.04145802, -0.03184142,  0.01958723]]],\n",
       "      dtype=float32)"
      ]
     },
     "execution_count": 30,
     "metadata": {},
     "output_type": "execute_result"
    }
   ],
   "source": [
    "layer_outs1[0][0]"
   ]
  },
  {
   "cell_type": "code",
   "execution_count": 9,
   "metadata": {},
   "outputs": [
    {
     "data": {
      "text/plain": [
       "<tf.Tensor 'input_1:0' shape=(?, 3, 20) dtype=float32>"
      ]
     },
     "execution_count": 9,
     "metadata": {},
     "output_type": "execute_result"
    }
   ],
   "source": [
    "model.layers[1].get_input_at(0)"
   ]
  },
  {
   "cell_type": "code",
   "execution_count": 25,
   "metadata": {},
   "outputs": [
    {
     "data": {
      "text/plain": [
       "array([[26, 18, 20]])"
      ]
     },
     "execution_count": 25,
     "metadata": {},
     "output_type": "execute_result"
    }
   ],
   "source": [
    "a"
   ]
  },
  {
   "cell_type": "code",
   "execution_count": 29,
   "metadata": {},
   "outputs": [
    {
     "ename": "UnknownError",
     "evalue": "2 root error(s) found.\n  (0) Unknown: Failed to get convolution algorithm. This is probably because cuDNN failed to initialize, so try looking to see if a warning log message was printed above.\n\t [[{{node conv1d_10/convolution}}]]\n\t [[concatenate_17/concat/_177]]\n  (1) Unknown: Failed to get convolution algorithm. This is probably because cuDNN failed to initialize, so try looking to see if a warning log message was printed above.\n\t [[{{node conv1d_10/convolution}}]]\n0 successful operations.\n0 derived errors ignored.",
     "output_type": "error",
     "traceback": [
      "\u001b[1;31m---------------------------------------------------------------------------\u001b[0m",
      "\u001b[1;31mUnknownError\u001b[0m                              Traceback (most recent call last)",
      "\u001b[1;32m<ipython-input-29-f02d53ac30d9>\u001b[0m in \u001b[0;36m<module>\u001b[1;34m\u001b[0m\n\u001b[1;32m----> 1\u001b[1;33m \u001b[0mK\u001b[0m\u001b[1;33m.\u001b[0m\u001b[0mfunction\u001b[0m\u001b[1;33m(\u001b[0m\u001b[1;33m[\u001b[0m\u001b[0mmodel\u001b[0m\u001b[1;33m.\u001b[0m\u001b[0mlayers\u001b[0m\u001b[1;33m[\u001b[0m\u001b[1;36m1\u001b[0m\u001b[1;33m]\u001b[0m\u001b[1;33m.\u001b[0m\u001b[0mget_input_at\u001b[0m\u001b[1;33m(\u001b[0m\u001b[1;36m0\u001b[0m\u001b[1;33m)\u001b[0m\u001b[1;33m,\u001b[0m \u001b[0mK\u001b[0m\u001b[1;33m.\u001b[0m\u001b[0mlearning_phase\u001b[0m\u001b[1;33m(\u001b[0m\u001b[1;33m)\u001b[0m\u001b[1;33m]\u001b[0m\u001b[1;33m,\u001b[0m \u001b[1;33m[\u001b[0m\u001b[0mmodel\u001b[0m\u001b[1;33m.\u001b[0m\u001b[0mlayers\u001b[0m\u001b[1;33m[\u001b[0m\u001b[1;36m1\u001b[0m\u001b[1;33m]\u001b[0m\u001b[1;33m.\u001b[0m\u001b[0mget_output_at\u001b[0m\u001b[1;33m(\u001b[0m\u001b[1;36m0\u001b[0m\u001b[1;33m)\u001b[0m\u001b[1;33m]\u001b[0m\u001b[1;33m)\u001b[0m\u001b[1;33m(\u001b[0m\u001b[1;33m[\u001b[0m\u001b[0mlayer_outs1\u001b[0m\u001b[1;33m[\u001b[0m\u001b[1;36m0\u001b[0m\u001b[1;33m]\u001b[0m\u001b[1;33m[\u001b[0m\u001b[1;36m0\u001b[0m\u001b[1;33m]\u001b[0m\u001b[1;33m,\u001b[0m \u001b[1;36m0.\u001b[0m\u001b[1;33m]\u001b[0m\u001b[1;33m)\u001b[0m\u001b[1;33m\u001b[0m\u001b[1;33m\u001b[0m\u001b[0m\n\u001b[0m\u001b[0;32m      2\u001b[0m \u001b[1;31m# K.function([model.layers[0].input, K.learning_phase()], [model.layers[1].get_output_at(0)])([a, 0.])\u001b[0m\u001b[1;33m\u001b[0m\u001b[1;33m\u001b[0m\u001b[1;33m\u001b[0m\u001b[0m\n",
      "\u001b[1;32m~\\Anaconda3\\lib\\site-packages\\keras\\backend\\tensorflow_backend.py\u001b[0m in \u001b[0;36m__call__\u001b[1;34m(self, inputs)\u001b[0m\n\u001b[0;32m   2713\u001b[0m                 \u001b[1;32mreturn\u001b[0m \u001b[0mself\u001b[0m\u001b[1;33m.\u001b[0m\u001b[0m_legacy_call\u001b[0m\u001b[1;33m(\u001b[0m\u001b[0minputs\u001b[0m\u001b[1;33m)\u001b[0m\u001b[1;33m\u001b[0m\u001b[1;33m\u001b[0m\u001b[0m\n\u001b[0;32m   2714\u001b[0m \u001b[1;33m\u001b[0m\u001b[0m\n\u001b[1;32m-> 2715\u001b[1;33m             \u001b[1;32mreturn\u001b[0m \u001b[0mself\u001b[0m\u001b[1;33m.\u001b[0m\u001b[0m_call\u001b[0m\u001b[1;33m(\u001b[0m\u001b[0minputs\u001b[0m\u001b[1;33m)\u001b[0m\u001b[1;33m\u001b[0m\u001b[1;33m\u001b[0m\u001b[0m\n\u001b[0m\u001b[0;32m   2716\u001b[0m         \u001b[1;32melse\u001b[0m\u001b[1;33m:\u001b[0m\u001b[1;33m\u001b[0m\u001b[1;33m\u001b[0m\u001b[0m\n\u001b[0;32m   2717\u001b[0m             \u001b[1;32mif\u001b[0m \u001b[0mpy_any\u001b[0m\u001b[1;33m(\u001b[0m\u001b[0mis_tensor\u001b[0m\u001b[1;33m(\u001b[0m\u001b[0mx\u001b[0m\u001b[1;33m)\u001b[0m \u001b[1;32mfor\u001b[0m \u001b[0mx\u001b[0m \u001b[1;32min\u001b[0m \u001b[0minputs\u001b[0m\u001b[1;33m)\u001b[0m\u001b[1;33m:\u001b[0m\u001b[1;33m\u001b[0m\u001b[1;33m\u001b[0m\u001b[0m\n",
      "\u001b[1;32m~\\Anaconda3\\lib\\site-packages\\keras\\backend\\tensorflow_backend.py\u001b[0m in \u001b[0;36m_call\u001b[1;34m(self, inputs)\u001b[0m\n\u001b[0;32m   2673\u001b[0m             \u001b[0mfetched\u001b[0m \u001b[1;33m=\u001b[0m \u001b[0mself\u001b[0m\u001b[1;33m.\u001b[0m\u001b[0m_callable_fn\u001b[0m\u001b[1;33m(\u001b[0m\u001b[1;33m*\u001b[0m\u001b[0marray_vals\u001b[0m\u001b[1;33m,\u001b[0m \u001b[0mrun_metadata\u001b[0m\u001b[1;33m=\u001b[0m\u001b[0mself\u001b[0m\u001b[1;33m.\u001b[0m\u001b[0mrun_metadata\u001b[0m\u001b[1;33m)\u001b[0m\u001b[1;33m\u001b[0m\u001b[1;33m\u001b[0m\u001b[0m\n\u001b[0;32m   2674\u001b[0m         \u001b[1;32melse\u001b[0m\u001b[1;33m:\u001b[0m\u001b[1;33m\u001b[0m\u001b[1;33m\u001b[0m\u001b[0m\n\u001b[1;32m-> 2675\u001b[1;33m             \u001b[0mfetched\u001b[0m \u001b[1;33m=\u001b[0m \u001b[0mself\u001b[0m\u001b[1;33m.\u001b[0m\u001b[0m_callable_fn\u001b[0m\u001b[1;33m(\u001b[0m\u001b[1;33m*\u001b[0m\u001b[0marray_vals\u001b[0m\u001b[1;33m)\u001b[0m\u001b[1;33m\u001b[0m\u001b[1;33m\u001b[0m\u001b[0m\n\u001b[0m\u001b[0;32m   2676\u001b[0m         \u001b[1;32mreturn\u001b[0m \u001b[0mfetched\u001b[0m\u001b[1;33m[\u001b[0m\u001b[1;33m:\u001b[0m\u001b[0mlen\u001b[0m\u001b[1;33m(\u001b[0m\u001b[0mself\u001b[0m\u001b[1;33m.\u001b[0m\u001b[0moutputs\u001b[0m\u001b[1;33m)\u001b[0m\u001b[1;33m]\u001b[0m\u001b[1;33m\u001b[0m\u001b[1;33m\u001b[0m\u001b[0m\n\u001b[0;32m   2677\u001b[0m \u001b[1;33m\u001b[0m\u001b[0m\n",
      "\u001b[1;32m~\\Anaconda3\\lib\\site-packages\\tensorflow\\python\\client\\session.py\u001b[0m in \u001b[0;36m__call__\u001b[1;34m(self, *args, **kwargs)\u001b[0m\n\u001b[0;32m   1456\u001b[0m         ret = tf_session.TF_SessionRunCallable(self._session._session,\n\u001b[0;32m   1457\u001b[0m                                                \u001b[0mself\u001b[0m\u001b[1;33m.\u001b[0m\u001b[0m_handle\u001b[0m\u001b[1;33m,\u001b[0m \u001b[0margs\u001b[0m\u001b[1;33m,\u001b[0m\u001b[1;33m\u001b[0m\u001b[1;33m\u001b[0m\u001b[0m\n\u001b[1;32m-> 1458\u001b[1;33m                                                run_metadata_ptr)\n\u001b[0m\u001b[0;32m   1459\u001b[0m         \u001b[1;32mif\u001b[0m \u001b[0mrun_metadata\u001b[0m\u001b[1;33m:\u001b[0m\u001b[1;33m\u001b[0m\u001b[1;33m\u001b[0m\u001b[0m\n\u001b[0;32m   1460\u001b[0m           \u001b[0mproto_data\u001b[0m \u001b[1;33m=\u001b[0m \u001b[0mtf_session\u001b[0m\u001b[1;33m.\u001b[0m\u001b[0mTF_GetBuffer\u001b[0m\u001b[1;33m(\u001b[0m\u001b[0mrun_metadata_ptr\u001b[0m\u001b[1;33m)\u001b[0m\u001b[1;33m\u001b[0m\u001b[1;33m\u001b[0m\u001b[0m\n",
      "\u001b[1;31mUnknownError\u001b[0m: 2 root error(s) found.\n  (0) Unknown: Failed to get convolution algorithm. This is probably because cuDNN failed to initialize, so try looking to see if a warning log message was printed above.\n\t [[{{node conv1d_10/convolution}}]]\n\t [[concatenate_17/concat/_177]]\n  (1) Unknown: Failed to get convolution algorithm. This is probably because cuDNN failed to initialize, so try looking to see if a warning log message was printed above.\n\t [[{{node conv1d_10/convolution}}]]\n0 successful operations.\n0 derived errors ignored."
     ]
    }
   ],
   "source": [
    "K.function([model.layers[1].get_input_at(0), K.learning_phase()], [model.layers[1].get_output_at(0)])([layer_outs1[0][0], 0.])\n",
    "# K.function([model.layers[0].input, K.learning_phase()], [model.layers[1].get_output_at(0)])([a, 0.])"
   ]
  },
  {
   "cell_type": "code",
   "execution_count": null,
   "metadata": {},
   "outputs": [],
   "source": []
  },
  {
   "cell_type": "code",
   "execution_count": 14,
   "metadata": {},
   "outputs": [
    {
     "name": "stdout",
     "output_type": "stream",
     "text": [
      "start\n"
     ]
    },
    {
     "ename": "UnknownError",
     "evalue": "2 root error(s) found.\n  (0) Unknown: Failed to get convolution algorithm. This is probably because cuDNN failed to initialize, so try looking to see if a warning log message was printed above.\n\t [[{{node conv1d_2/convolution}}]]\n\t [[concatenate_5/concat/_61]]\n  (1) Unknown: Failed to get convolution algorithm. This is probably because cuDNN failed to initialize, so try looking to see if a warning log message was printed above.\n\t [[{{node conv1d_2/convolution}}]]\n0 successful operations.\n0 derived errors ignored.",
     "output_type": "error",
     "traceback": [
      "\u001b[1;31m---------------------------------------------------------------------------\u001b[0m",
      "\u001b[1;31mUnknownError\u001b[0m                              Traceback (most recent call last)",
      "\u001b[1;32m<ipython-input-14-3084ee0d9457>\u001b[0m in \u001b[0;36m<module>\u001b[1;34m\u001b[0m\n\u001b[0;32m      9\u001b[0m \u001b[1;33m\u001b[0m\u001b[0m\n\u001b[0;32m     10\u001b[0m \u001b[0mprint\u001b[0m\u001b[1;33m(\u001b[0m\u001b[1;34m'start'\u001b[0m\u001b[1;33m)\u001b[0m\u001b[1;33m\u001b[0m\u001b[1;33m\u001b[0m\u001b[0m\n\u001b[1;32m---> 11\u001b[1;33m \u001b[0mlayer_outs\u001b[0m \u001b[1;33m=\u001b[0m \u001b[1;33m[\u001b[0m\u001b[0mfunc\u001b[0m\u001b[1;33m(\u001b[0m\u001b[1;33m[\u001b[0m\u001b[0mlayer_outs1\u001b[0m\u001b[1;33m[\u001b[0m\u001b[1;36m0\u001b[0m\u001b[1;33m]\u001b[0m\u001b[1;33m[\u001b[0m\u001b[1;36m0\u001b[0m\u001b[1;33m]\u001b[0m\u001b[1;33m,\u001b[0m \u001b[1;36m0.\u001b[0m\u001b[1;33m]\u001b[0m\u001b[1;33m)\u001b[0m \u001b[1;32mfor\u001b[0m \u001b[0mfunc\u001b[0m \u001b[1;32min\u001b[0m \u001b[0mfunctors\u001b[0m\u001b[1;33m]\u001b[0m\u001b[1;33m\u001b[0m\u001b[1;33m\u001b[0m\u001b[0m\n\u001b[0m\u001b[0;32m     12\u001b[0m \u001b[0mprint\u001b[0m\u001b[1;33m(\u001b[0m\u001b[0mlayer_outs\u001b[0m\u001b[1;33m[\u001b[0m\u001b[1;36m0\u001b[0m\u001b[1;33m]\u001b[0m\u001b[1;33m)\u001b[0m\u001b[1;33m\u001b[0m\u001b[1;33m\u001b[0m\u001b[0m\n\u001b[0;32m     13\u001b[0m \u001b[0mprint\u001b[0m\u001b[1;33m(\u001b[0m\u001b[1;33m)\u001b[0m\u001b[1;33m\u001b[0m\u001b[1;33m\u001b[0m\u001b[0m\n",
      "\u001b[1;32m<ipython-input-14-3084ee0d9457>\u001b[0m in \u001b[0;36m<listcomp>\u001b[1;34m(.0)\u001b[0m\n\u001b[0;32m      9\u001b[0m \u001b[1;33m\u001b[0m\u001b[0m\n\u001b[0;32m     10\u001b[0m \u001b[0mprint\u001b[0m\u001b[1;33m(\u001b[0m\u001b[1;34m'start'\u001b[0m\u001b[1;33m)\u001b[0m\u001b[1;33m\u001b[0m\u001b[1;33m\u001b[0m\u001b[0m\n\u001b[1;32m---> 11\u001b[1;33m \u001b[0mlayer_outs\u001b[0m \u001b[1;33m=\u001b[0m \u001b[1;33m[\u001b[0m\u001b[0mfunc\u001b[0m\u001b[1;33m(\u001b[0m\u001b[1;33m[\u001b[0m\u001b[0mlayer_outs1\u001b[0m\u001b[1;33m[\u001b[0m\u001b[1;36m0\u001b[0m\u001b[1;33m]\u001b[0m\u001b[1;33m[\u001b[0m\u001b[1;36m0\u001b[0m\u001b[1;33m]\u001b[0m\u001b[1;33m,\u001b[0m \u001b[1;36m0.\u001b[0m\u001b[1;33m]\u001b[0m\u001b[1;33m)\u001b[0m \u001b[1;32mfor\u001b[0m \u001b[0mfunc\u001b[0m \u001b[1;32min\u001b[0m \u001b[0mfunctors\u001b[0m\u001b[1;33m]\u001b[0m\u001b[1;33m\u001b[0m\u001b[1;33m\u001b[0m\u001b[0m\n\u001b[0m\u001b[0;32m     12\u001b[0m \u001b[0mprint\u001b[0m\u001b[1;33m(\u001b[0m\u001b[0mlayer_outs\u001b[0m\u001b[1;33m[\u001b[0m\u001b[1;36m0\u001b[0m\u001b[1;33m]\u001b[0m\u001b[1;33m)\u001b[0m\u001b[1;33m\u001b[0m\u001b[1;33m\u001b[0m\u001b[0m\n\u001b[0;32m     13\u001b[0m \u001b[0mprint\u001b[0m\u001b[1;33m(\u001b[0m\u001b[1;33m)\u001b[0m\u001b[1;33m\u001b[0m\u001b[1;33m\u001b[0m\u001b[0m\n",
      "\u001b[1;32m~\\Anaconda3\\lib\\site-packages\\keras\\backend\\tensorflow_backend.py\u001b[0m in \u001b[0;36m__call__\u001b[1;34m(self, inputs)\u001b[0m\n\u001b[0;32m   2713\u001b[0m                 \u001b[1;32mreturn\u001b[0m \u001b[0mself\u001b[0m\u001b[1;33m.\u001b[0m\u001b[0m_legacy_call\u001b[0m\u001b[1;33m(\u001b[0m\u001b[0minputs\u001b[0m\u001b[1;33m)\u001b[0m\u001b[1;33m\u001b[0m\u001b[1;33m\u001b[0m\u001b[0m\n\u001b[0;32m   2714\u001b[0m \u001b[1;33m\u001b[0m\u001b[0m\n\u001b[1;32m-> 2715\u001b[1;33m             \u001b[1;32mreturn\u001b[0m \u001b[0mself\u001b[0m\u001b[1;33m.\u001b[0m\u001b[0m_call\u001b[0m\u001b[1;33m(\u001b[0m\u001b[0minputs\u001b[0m\u001b[1;33m)\u001b[0m\u001b[1;33m\u001b[0m\u001b[1;33m\u001b[0m\u001b[0m\n\u001b[0m\u001b[0;32m   2716\u001b[0m         \u001b[1;32melse\u001b[0m\u001b[1;33m:\u001b[0m\u001b[1;33m\u001b[0m\u001b[1;33m\u001b[0m\u001b[0m\n\u001b[0;32m   2717\u001b[0m             \u001b[1;32mif\u001b[0m \u001b[0mpy_any\u001b[0m\u001b[1;33m(\u001b[0m\u001b[0mis_tensor\u001b[0m\u001b[1;33m(\u001b[0m\u001b[0mx\u001b[0m\u001b[1;33m)\u001b[0m \u001b[1;32mfor\u001b[0m \u001b[0mx\u001b[0m \u001b[1;32min\u001b[0m \u001b[0minputs\u001b[0m\u001b[1;33m)\u001b[0m\u001b[1;33m:\u001b[0m\u001b[1;33m\u001b[0m\u001b[1;33m\u001b[0m\u001b[0m\n",
      "\u001b[1;32m~\\Anaconda3\\lib\\site-packages\\keras\\backend\\tensorflow_backend.py\u001b[0m in \u001b[0;36m_call\u001b[1;34m(self, inputs)\u001b[0m\n\u001b[0;32m   2673\u001b[0m             \u001b[0mfetched\u001b[0m \u001b[1;33m=\u001b[0m \u001b[0mself\u001b[0m\u001b[1;33m.\u001b[0m\u001b[0m_callable_fn\u001b[0m\u001b[1;33m(\u001b[0m\u001b[1;33m*\u001b[0m\u001b[0marray_vals\u001b[0m\u001b[1;33m,\u001b[0m \u001b[0mrun_metadata\u001b[0m\u001b[1;33m=\u001b[0m\u001b[0mself\u001b[0m\u001b[1;33m.\u001b[0m\u001b[0mrun_metadata\u001b[0m\u001b[1;33m)\u001b[0m\u001b[1;33m\u001b[0m\u001b[1;33m\u001b[0m\u001b[0m\n\u001b[0;32m   2674\u001b[0m         \u001b[1;32melse\u001b[0m\u001b[1;33m:\u001b[0m\u001b[1;33m\u001b[0m\u001b[1;33m\u001b[0m\u001b[0m\n\u001b[1;32m-> 2675\u001b[1;33m             \u001b[0mfetched\u001b[0m \u001b[1;33m=\u001b[0m \u001b[0mself\u001b[0m\u001b[1;33m.\u001b[0m\u001b[0m_callable_fn\u001b[0m\u001b[1;33m(\u001b[0m\u001b[1;33m*\u001b[0m\u001b[0marray_vals\u001b[0m\u001b[1;33m)\u001b[0m\u001b[1;33m\u001b[0m\u001b[1;33m\u001b[0m\u001b[0m\n\u001b[0m\u001b[0;32m   2676\u001b[0m         \u001b[1;32mreturn\u001b[0m \u001b[0mfetched\u001b[0m\u001b[1;33m[\u001b[0m\u001b[1;33m:\u001b[0m\u001b[0mlen\u001b[0m\u001b[1;33m(\u001b[0m\u001b[0mself\u001b[0m\u001b[1;33m.\u001b[0m\u001b[0moutputs\u001b[0m\u001b[1;33m)\u001b[0m\u001b[1;33m]\u001b[0m\u001b[1;33m\u001b[0m\u001b[1;33m\u001b[0m\u001b[0m\n\u001b[0;32m   2677\u001b[0m \u001b[1;33m\u001b[0m\u001b[0m\n",
      "\u001b[1;32m~\\Anaconda3\\lib\\site-packages\\tensorflow\\python\\client\\session.py\u001b[0m in \u001b[0;36m__call__\u001b[1;34m(self, *args, **kwargs)\u001b[0m\n\u001b[0;32m   1456\u001b[0m         ret = tf_session.TF_SessionRunCallable(self._session._session,\n\u001b[0;32m   1457\u001b[0m                                                \u001b[0mself\u001b[0m\u001b[1;33m.\u001b[0m\u001b[0m_handle\u001b[0m\u001b[1;33m,\u001b[0m \u001b[0margs\u001b[0m\u001b[1;33m,\u001b[0m\u001b[1;33m\u001b[0m\u001b[1;33m\u001b[0m\u001b[0m\n\u001b[1;32m-> 1458\u001b[1;33m                                                run_metadata_ptr)\n\u001b[0m\u001b[0;32m   1459\u001b[0m         \u001b[1;32mif\u001b[0m \u001b[0mrun_metadata\u001b[0m\u001b[1;33m:\u001b[0m\u001b[1;33m\u001b[0m\u001b[1;33m\u001b[0m\u001b[0m\n\u001b[0;32m   1460\u001b[0m           \u001b[0mproto_data\u001b[0m \u001b[1;33m=\u001b[0m \u001b[0mtf_session\u001b[0m\u001b[1;33m.\u001b[0m\u001b[0mTF_GetBuffer\u001b[0m\u001b[1;33m(\u001b[0m\u001b[0mrun_metadata_ptr\u001b[0m\u001b[1;33m)\u001b[0m\u001b[1;33m\u001b[0m\u001b[1;33m\u001b[0m\u001b[0m\n",
      "\u001b[1;31mUnknownError\u001b[0m: 2 root error(s) found.\n  (0) Unknown: Failed to get convolution algorithm. This is probably because cuDNN failed to initialize, so try looking to see if a warning log message was printed above.\n\t [[{{node conv1d_2/convolution}}]]\n\t [[concatenate_5/concat/_61]]\n  (1) Unknown: Failed to get convolution algorithm. This is probably because cuDNN failed to initialize, so try looking to see if a warning log message was printed above.\n\t [[{{node conv1d_2/convolution}}]]\n0 successful operations.\n0 derived errors ignored."
     ]
    }
   ],
   "source": [
    "inp = model.input\n",
    "# outputs = [model.layers[1].get_output_at(0), model.layers[1].get_output_at(1)]\n",
    "outputs = [model.layers[1].get_output_at(0)]\n",
    "\n",
    "# functors = [K.function([inp, K.learning_phase()], [out]) for out in outputs]\n",
    "functors = list()\n",
    "functors.append(K.function([model.layers[1].get_input_at(0), K.learning_phase()], [outputs[0]]))\n",
    "# functors.append(K.function([model.layers[1].get_input_at(1), K.learning_phase()], [outputs[1]]))\n",
    "\n",
    "print('start')\n",
    "layer_outs = [func([layer_outs1[0][0], 0.]) for func in functors]\n",
    "print(layer_outs[0])\n",
    "print()\n",
    "# print(layer_outs[1])"
   ]
  },
  {
   "cell_type": "code",
   "execution_count": null,
   "metadata": {},
   "outputs": [],
   "source": []
  },
  {
   "cell_type": "code",
   "execution_count": null,
   "metadata": {},
   "outputs": [],
   "source": []
  },
  {
   "cell_type": "code",
   "execution_count": 382,
   "metadata": {},
   "outputs": [],
   "source": [
    "outputs = list()\n",
    "outputs.append(model.layers[0].output)\n",
    "outputs.append(model.layers[1].get_output_at(1))\n",
    "outputs.append(model.layers[2].output)\n",
    "outputs.append(model.layers[3].output)\n",
    "outputs.append(model.layers[4].output)\n",
    "outputs.append(model.layers[5].output)\n",
    "outputs.append(model.layers[6].get_output_at(0))\n",
    "outputs.append(model.layers[7].output)"
   ]
  },
  {
   "cell_type": "code",
   "execution_count": null,
   "metadata": {},
   "outputs": [],
   "source": []
  },
  {
   "cell_type": "code",
   "execution_count": null,
   "metadata": {},
   "outputs": [],
   "source": []
  },
  {
   "cell_type": "code",
   "execution_count": 376,
   "metadata": {},
   "outputs": [
    {
     "data": {
      "text/plain": [
       "[<keras.layers.embeddings.Embedding at 0x2658bb7f550>,\n",
       " <keras.engine.training.Model at 0x2658c3dc6d8>,\n",
       " <__main__.Highway at 0x2658c3dcb00>,\n",
       " <keras.layers.recurrent.LSTM at 0x2658c3fd940>,\n",
       " <keras.layers.recurrent.LSTM at 0x2657d28f048>,\n",
       " <__main__.Highway at 0x2657d28f0f0>,\n",
       " <keras.engine.training.Model at 0x2658d24f9e8>,\n",
       " <keras.layers.wrappers.TimeDistributed at 0x2658d28c048>]"
      ]
     },
     "execution_count": 376,
     "metadata": {},
     "output_type": "execute_result"
    }
   ],
   "source": [
    "model.layers"
   ]
  },
  {
   "cell_type": "code",
   "execution_count": null,
   "metadata": {},
   "outputs": [],
   "source": []
  },
  {
   "cell_type": "code",
   "execution_count": 58,
   "metadata": {},
   "outputs": [
    {
     "name": "stdout",
     "output_type": "stream",
     "text": [
      "(?, 20, 1)\n",
      "(?, 10, 1)\n"
     ]
    },
    {
     "ename": "TypeError",
     "evalue": "unhashable type: 'Dimension'",
     "output_type": "error",
     "traceback": [
      "\u001b[1;31m---------------------------------------------------------------------------\u001b[0m",
      "\u001b[1;31mTypeError\u001b[0m                                 Traceback (most recent call last)",
      "\u001b[1;32m<ipython-input-58-8bd145da8c83>\u001b[0m in \u001b[0;36m<module>\u001b[1;34m\u001b[0m\n\u001b[0;32m     31\u001b[0m \u001b[1;33m\u001b[0m\u001b[0m\n\u001b[0;32m     32\u001b[0m \u001b[0mconv_layers\u001b[0m \u001b[1;33m=\u001b[0m \u001b[0mlist\u001b[0m\u001b[1;33m(\u001b[0m\u001b[1;33m)\u001b[0m\u001b[1;33m\u001b[0m\u001b[1;33m\u001b[0m\u001b[0m\n\u001b[1;32m---> 33\u001b[1;33m \u001b[0mconv_out\u001b[0m \u001b[1;33m=\u001b[0m \u001b[0mconcatenate\u001b[0m\u001b[1;33m(\u001b[0m\u001b[1;33m[\u001b[0m\u001b[0mper_pool_bi\u001b[0m\u001b[1;33m,\u001b[0m \u001b[0mper_pool_tri\u001b[0m\u001b[1;33m]\u001b[0m\u001b[1;33m,\u001b[0m \u001b[0maxis\u001b[0m\u001b[1;33m=\u001b[0m\u001b[1;36m1\u001b[0m\u001b[1;33m)\u001b[0m\u001b[1;33m\u001b[0m\u001b[1;33m\u001b[0m\u001b[0m\n\u001b[0m\u001b[0;32m     34\u001b[0m \u001b[0mprint\u001b[0m\u001b[1;33m(\u001b[0m\u001b[0mconv_out\u001b[0m\u001b[1;33m.\u001b[0m\u001b[0mget_shape\u001b[0m\u001b[1;33m(\u001b[0m\u001b[1;33m)\u001b[0m\u001b[1;33m)\u001b[0m\u001b[1;33m\u001b[0m\u001b[1;33m\u001b[0m\u001b[0m\n\u001b[0;32m     35\u001b[0m \u001b[1;33m\u001b[0m\u001b[0m\n",
      "\u001b[1;32m~\\Anaconda3\\lib\\site-packages\\keras\\layers\\merge.py\u001b[0m in \u001b[0;36mconcatenate\u001b[1;34m(inputs, axis, **kwargs)\u001b[0m\n\u001b[0;32m    647\u001b[0m         \u001b[0mA\u001b[0m \u001b[0mtensor\u001b[0m\u001b[1;33m,\u001b[0m \u001b[0mthe\u001b[0m \u001b[0mconcatenation\u001b[0m \u001b[0mof\u001b[0m \u001b[0mthe\u001b[0m \u001b[0minputs\u001b[0m \u001b[0malongside\u001b[0m \u001b[0maxis\u001b[0m\u001b[0;31m \u001b[0m\u001b[0;31m`\u001b[0m\u001b[0maxis\u001b[0m\u001b[0;31m`\u001b[0m\u001b[1;33m.\u001b[0m\u001b[1;33m\u001b[0m\u001b[1;33m\u001b[0m\u001b[0m\n\u001b[0;32m    648\u001b[0m     \"\"\"\n\u001b[1;32m--> 649\u001b[1;33m     \u001b[1;32mreturn\u001b[0m \u001b[0mConcatenate\u001b[0m\u001b[1;33m(\u001b[0m\u001b[0maxis\u001b[0m\u001b[1;33m=\u001b[0m\u001b[0maxis\u001b[0m\u001b[1;33m,\u001b[0m \u001b[1;33m**\u001b[0m\u001b[0mkwargs\u001b[0m\u001b[1;33m)\u001b[0m\u001b[1;33m(\u001b[0m\u001b[0minputs\u001b[0m\u001b[1;33m)\u001b[0m\u001b[1;33m\u001b[0m\u001b[1;33m\u001b[0m\u001b[0m\n\u001b[0m\u001b[0;32m    650\u001b[0m \u001b[1;33m\u001b[0m\u001b[0m\n\u001b[0;32m    651\u001b[0m \u001b[1;33m\u001b[0m\u001b[0m\n",
      "\u001b[1;32m~\\Anaconda3\\lib\\site-packages\\keras\\engine\\base_layer.py\u001b[0m in \u001b[0;36m__call__\u001b[1;34m(self, inputs, **kwargs)\u001b[0m\n\u001b[0;32m    429\u001b[0m                                          \u001b[1;34m'You can build it manually via: '\u001b[0m\u001b[1;33m\u001b[0m\u001b[1;33m\u001b[0m\u001b[0m\n\u001b[0;32m    430\u001b[0m                                          '`layer.build(batch_input_shape)`')\n\u001b[1;32m--> 431\u001b[1;33m                 \u001b[0mself\u001b[0m\u001b[1;33m.\u001b[0m\u001b[0mbuild\u001b[0m\u001b[1;33m(\u001b[0m\u001b[0munpack_singleton\u001b[0m\u001b[1;33m(\u001b[0m\u001b[0minput_shapes\u001b[0m\u001b[1;33m)\u001b[0m\u001b[1;33m)\u001b[0m\u001b[1;33m\u001b[0m\u001b[1;33m\u001b[0m\u001b[0m\n\u001b[0m\u001b[0;32m    432\u001b[0m                 \u001b[0mself\u001b[0m\u001b[1;33m.\u001b[0m\u001b[0mbuilt\u001b[0m \u001b[1;33m=\u001b[0m \u001b[1;32mTrue\u001b[0m\u001b[1;33m\u001b[0m\u001b[1;33m\u001b[0m\u001b[0m\n\u001b[0;32m    433\u001b[0m \u001b[1;33m\u001b[0m\u001b[0m\n",
      "\u001b[1;32m~\\Anaconda3\\lib\\site-packages\\keras\\layers\\merge.py\u001b[0m in \u001b[0;36mbuild\u001b[1;34m(self, input_shape)\u001b[0m\n\u001b[0;32m    355\u001b[0m         \u001b[1;32mfor\u001b[0m \u001b[0mi\u001b[0m \u001b[1;32min\u001b[0m \u001b[0mrange\u001b[0m\u001b[1;33m(\u001b[0m\u001b[0mlen\u001b[0m\u001b[1;33m(\u001b[0m\u001b[0mreduced_inputs_shapes\u001b[0m\u001b[1;33m)\u001b[0m\u001b[1;33m)\u001b[0m\u001b[1;33m:\u001b[0m\u001b[1;33m\u001b[0m\u001b[1;33m\u001b[0m\u001b[0m\n\u001b[0;32m    356\u001b[0m             \u001b[1;32mdel\u001b[0m \u001b[0mreduced_inputs_shapes\u001b[0m\u001b[1;33m[\u001b[0m\u001b[0mi\u001b[0m\u001b[1;33m]\u001b[0m\u001b[1;33m[\u001b[0m\u001b[0mself\u001b[0m\u001b[1;33m.\u001b[0m\u001b[0maxis\u001b[0m\u001b[1;33m]\u001b[0m\u001b[1;33m\u001b[0m\u001b[1;33m\u001b[0m\u001b[0m\n\u001b[1;32m--> 357\u001b[1;33m             \u001b[0mshape_set\u001b[0m\u001b[1;33m.\u001b[0m\u001b[0madd\u001b[0m\u001b[1;33m(\u001b[0m\u001b[0mtuple\u001b[0m\u001b[1;33m(\u001b[0m\u001b[0mreduced_inputs_shapes\u001b[0m\u001b[1;33m[\u001b[0m\u001b[0mi\u001b[0m\u001b[1;33m]\u001b[0m\u001b[1;33m)\u001b[0m\u001b[1;33m)\u001b[0m\u001b[1;33m\u001b[0m\u001b[1;33m\u001b[0m\u001b[0m\n\u001b[0m\u001b[0;32m    358\u001b[0m         \u001b[1;32mif\u001b[0m \u001b[0mlen\u001b[0m\u001b[1;33m(\u001b[0m\u001b[0mshape_set\u001b[0m\u001b[1;33m)\u001b[0m \u001b[1;33m>\u001b[0m \u001b[1;36m1\u001b[0m\u001b[1;33m:\u001b[0m\u001b[1;33m\u001b[0m\u001b[1;33m\u001b[0m\u001b[0m\n\u001b[0;32m    359\u001b[0m             raise ValueError('A `Concatenate` layer requires '\n",
      "\u001b[1;31mTypeError\u001b[0m: unhashable type: 'Dimension'"
     ]
    }
   ],
   "source": [
    "# Modify 'num_of_train_domains' and 'max_domain_length'\n",
    "num_of_train_domains = 1200000\n",
    "max_domain_length = 47\n",
    "char_vocab_size = 37\n",
    "char_embed_size = 20\n",
    "\n",
    "model = Sequential()\n",
    "model.add(Embedding(char_vocab_size, char_embed_size, input_length=max_domain_length))\n",
    "\n",
    "conv_input = Input(shape=(max_domain_length, char_embed_size))\n",
    "\n",
    "num_of_filters_bi = 20\n",
    "kernel_len_bi = 2\n",
    "num_of_filters_tri = 10\n",
    "kernel_len_tri = 3\n",
    "\n",
    "conv_bi = Conv1D(num_of_filters_bi, kernel_len_bi, strides=1, padding='same')(conv_input)\n",
    "pool_bi = MaxPooling1D([conv_bi.get_shape()[1]], padding='valid')(conv_bi)\n",
    "per_pool_bi = Reshape((1, 20))(pool_bi)\n",
    "\n",
    "conv_tri = Conv1D(num_of_filters_tri, kernel_len_tri, strides=1, padding='same')(conv_input)\n",
    "pool_tri = MaxPooling1D([conv_tri.get_shape()[1]], padding='valid')(conv_tri)\n",
    "per_pool_tri = Reshape((1, 10))(pool_tri)\n",
    "\n",
    "\"\"\"\n",
    "print(pool_bi.get_shape())\n",
    "print(re_pool_bi.get_shape())\n",
    "print(pool_tri.get_shape())\n",
    "print(re_pool_tri.get_shape())\n",
    "\"\"\"\n",
    "\n",
    "conv_layers = list()\n",
    "conv_out = concatenate([per_pool_bi, per_pool_tri], axis=2)\n",
    "print(conv_out.get_shape())\n",
    "\n",
    "\n",
    "model.add(Model(input=conv_input, output=conv_out))\n",
    "# conv_tri = Conv1D(num_of_filters_tri, kernel_len_tri, strides=1, padding='same')(conv_input)\n",
    "\"\"\"\n",
    "pool_size = ()\n",
    "conv_layers = list()\n",
    "\n",
    "kernels=[2] * 20 + [3] * 10\n",
    "for kernel_size in kernels:\n",
    "    conv = Conv1D(32, kernel_size, strides=1, padding='same')(conv_input)\n",
    "    permuted_conv = Permute((2, 1))(conv)\n",
    "    pool = MaxPooling1D([permuted_conv.get_shape()[1]], strides=1, padding='valid')(permuted_conv)\n",
    "    permuted_pool = Permute((2, 1))(pool)\n",
    "    \n",
    "    conv_layers.append(permuted_pool)\n",
    "\n",
    "# conv_out = Concatenate()(conv_layers)\n",
    "conv_out = concatenate(conv_layers, axis=2)\n",
    "conv_model = Model(input=conv_input, output=conv_out)\n",
    "\n",
    "model.add(conv_model)\n",
    "\"\"\"\n",
    "pass"
   ]
  },
  {
   "cell_type": "code",
   "execution_count": 28,
   "metadata": {},
   "outputs": [],
   "source": [
    "model.add(Reshape((max_domain_length, -1)))"
   ]
  },
  {
   "cell_type": "code",
   "execution_count": 6,
   "metadata": {},
   "outputs": [],
   "source": [
    "# from keras.legacy.layers import Highway"
   ]
  },
  {
   "cell_type": "code",
   "execution_count": 29,
   "metadata": {},
   "outputs": [],
   "source": [
    "model.add(Highway(input_shape=(30, ) ))"
   ]
  },
  {
   "cell_type": "code",
   "execution_count": 30,
   "metadata": {},
   "outputs": [
    {
     "ename": "TypeError",
     "evalue": "`LSTM` can accept only 1 positional arguments ('units',), but you passed the following positional arguments: [50, <bound method Kernel.raw_input of <ipykernel.ipkernel.IPythonKernel object at 0x0000024AEE9D4240>>]",
     "output_type": "error",
     "traceback": [
      "\u001b[1;31m---------------------------------------------------------------------------\u001b[0m",
      "\u001b[1;31mTypeError\u001b[0m                                 Traceback (most recent call last)",
      "\u001b[1;32m<ipython-input-30-47cd69055cff>\u001b[0m in \u001b[0;36m<module>\u001b[1;34m\u001b[0m\n\u001b[1;32m----> 1\u001b[1;33m \u001b[0mmodel\u001b[0m\u001b[1;33m.\u001b[0m\u001b[0madd\u001b[0m\u001b[1;33m(\u001b[0m\u001b[0mLSTM\u001b[0m\u001b[1;33m(\u001b[0m\u001b[1;36m50\u001b[0m\u001b[1;33m,\u001b[0m \u001b[0minput\u001b[0m\u001b[1;33m)\u001b[0m\u001b[1;33m)\u001b[0m\u001b[1;33m\u001b[0m\u001b[1;33m\u001b[0m\u001b[0m\n\u001b[0m",
      "\u001b[1;32m~\\Anaconda3\\lib\\site-packages\\keras\\legacy\\interfaces.py\u001b[0m in \u001b[0;36mwrapper\u001b[1;34m(*args, **kwargs)\u001b[0m\n\u001b[0;32m     44\u001b[0m                                     \u001b[1;34m', but you passed the following '\u001b[0m\u001b[1;33m\u001b[0m\u001b[1;33m\u001b[0m\u001b[0m\n\u001b[0;32m     45\u001b[0m                                     \u001b[1;34m'positional arguments: '\u001b[0m \u001b[1;33m+\u001b[0m\u001b[1;33m\u001b[0m\u001b[1;33m\u001b[0m\u001b[0m\n\u001b[1;32m---> 46\u001b[1;33m                                     str(list(args[1:])))\n\u001b[0m\u001b[0;32m     47\u001b[0m             \u001b[1;32mfor\u001b[0m \u001b[0mkey\u001b[0m \u001b[1;32min\u001b[0m \u001b[0mvalue_conversions\u001b[0m\u001b[1;33m:\u001b[0m\u001b[1;33m\u001b[0m\u001b[1;33m\u001b[0m\u001b[0m\n\u001b[0;32m     48\u001b[0m                 \u001b[1;32mif\u001b[0m \u001b[0mkey\u001b[0m \u001b[1;32min\u001b[0m \u001b[0mkwargs\u001b[0m\u001b[1;33m:\u001b[0m\u001b[1;33m\u001b[0m\u001b[1;33m\u001b[0m\u001b[0m\n",
      "\u001b[1;31mTypeError\u001b[0m: `LSTM` can accept only 1 positional arguments ('units',), but you passed the following positional arguments: [50, <bound method Kernel.raw_input of <ipykernel.ipkernel.IPythonKernel object at 0x0000024AEE9D4240>>]"
     ]
    }
   ],
   "source": [
    "model.add(LSTM(50, input))"
   ]
  },
  {
   "cell_type": "code",
   "execution_count": 10,
   "metadata": {},
   "outputs": [
    {
     "name": "stdout",
     "output_type": "stream",
     "text": [
      "[[ 1  2  3]\n",
      " [ 4  5  6]\n",
      " [ 7  8  9]\n",
      " [10 11 12]]\n"
     ]
    }
   ],
   "source": []
  },
  {
   "cell_type": "code",
   "execution_count": 11,
   "metadata": {},
   "outputs": [
    {
     "name": "stdout",
     "output_type": "stream",
     "text": [
      "[[ 1  2  3  7  8  9]\n",
      " [ 4  5  6 10 11 12]]\n"
     ]
    }
   ],
   "source": []
  },
  {
   "cell_type": "code",
   "execution_count": 16,
   "metadata": {},
   "outputs": [
    {
     "name": "stdout",
     "output_type": "stream",
     "text": [
      "(4, 3)\n"
     ]
    }
   ],
   "source": []
  },
  {
   "cell_type": "code",
   "execution_count": null,
   "metadata": {},
   "outputs": [],
   "source": []
  },
  {
   "cell_type": "markdown",
   "metadata": {},
   "source": [
    "# 모델 시각화"
   ]
  },
  {
   "cell_type": "code",
   "execution_count": 5,
   "metadata": {},
   "outputs": [
    {
     "data": {
      "image/svg+xml": [
       "<svg height=\"294pt\" viewBox=\"0.00 0.00 358.00 294.00\" width=\"358pt\" xmlns=\"http://www.w3.org/2000/svg\" xmlns:xlink=\"http://www.w3.org/1999/xlink\">\n",
       "<g class=\"graph\" id=\"graph0\" transform=\"scale(1 1) rotate(0) translate(4 290)\">\n",
       "<title>G</title>\n",
       "<polygon fill=\"white\" points=\"-4,4 -4,-290 354,-290 354,4 -4,4\" stroke=\"none\"/>\n",
       "<!-- 2325015982152 -->\n",
       "<g class=\"node\" id=\"node1\"><title>2325015982152</title>\n",
       "<polygon fill=\"none\" points=\"16.5,-166.5 16.5,-212.5 333.5,-212.5 333.5,-166.5 16.5,-166.5\" stroke=\"black\"/>\n",
       "<text font-family=\"Times New Roman,serif\" font-size=\"14.00\" text-anchor=\"middle\" x=\"98\" y=\"-185.8\">embedding_1: Embedding</text>\n",
       "<polyline fill=\"none\" points=\"179.5,-166.5 179.5,-212.5 \" stroke=\"black\"/>\n",
       "<text font-family=\"Times New Roman,serif\" font-size=\"14.00\" text-anchor=\"middle\" x=\"207.5\" y=\"-197.3\">input:</text>\n",
       "<polyline fill=\"none\" points=\"179.5,-189.5 235.5,-189.5 \" stroke=\"black\"/>\n",
       "<text font-family=\"Times New Roman,serif\" font-size=\"14.00\" text-anchor=\"middle\" x=\"207.5\" y=\"-174.3\">output:</text>\n",
       "<polyline fill=\"none\" points=\"235.5,-166.5 235.5,-212.5 \" stroke=\"black\"/>\n",
       "<text font-family=\"Times New Roman,serif\" font-size=\"14.00\" text-anchor=\"middle\" x=\"284.5\" y=\"-197.3\">(None, 47)</text>\n",
       "<polyline fill=\"none\" points=\"235.5,-189.5 333.5,-189.5 \" stroke=\"black\"/>\n",
       "<text font-family=\"Times New Roman,serif\" font-size=\"14.00\" text-anchor=\"middle\" x=\"284.5\" y=\"-174.3\">(None, 47, 20)</text>\n",
       "</g>\n",
       "<!-- 2325015985120 -->\n",
       "<g class=\"node\" id=\"node2\"><title>2325015985120</title>\n",
       "<polygon fill=\"none\" points=\"10,-83.5 10,-129.5 340,-129.5 340,-83.5 10,-83.5\" stroke=\"black\"/>\n",
       "<text font-family=\"Times New Roman,serif\" font-size=\"14.00\" text-anchor=\"middle\" x=\"64\" y=\"-102.8\">model_1: Model</text>\n",
       "<polyline fill=\"none\" points=\"118,-83.5 118,-129.5 \" stroke=\"black\"/>\n",
       "<text font-family=\"Times New Roman,serif\" font-size=\"14.00\" text-anchor=\"middle\" x=\"146\" y=\"-114.3\">input:</text>\n",
       "<polyline fill=\"none\" points=\"118,-106.5 174,-106.5 \" stroke=\"black\"/>\n",
       "<text font-family=\"Times New Roman,serif\" font-size=\"14.00\" text-anchor=\"middle\" x=\"146\" y=\"-91.3\">output:</text>\n",
       "<polyline fill=\"none\" points=\"174,-83.5 174,-129.5 \" stroke=\"black\"/>\n",
       "<text font-family=\"Times New Roman,serif\" font-size=\"14.00\" text-anchor=\"middle\" x=\"257\" y=\"-114.3\">(None, 47, 20)</text>\n",
       "<polyline fill=\"none\" points=\"174,-106.5 340,-106.5 \" stroke=\"black\"/>\n",
       "<text font-family=\"Times New Roman,serif\" font-size=\"14.00\" text-anchor=\"middle\" x=\"257\" y=\"-91.3\">(None, 47, Dimension(30))</text>\n",
       "</g>\n",
       "<!-- 2325015982152&#45;&gt;2325015985120 -->\n",
       "<g class=\"edge\" id=\"edge2\"><title>2325015982152-&gt;2325015985120</title>\n",
       "<path d=\"M175,-166.366C175,-158.152 175,-148.658 175,-139.725\" fill=\"none\" stroke=\"black\"/>\n",
       "<polygon fill=\"black\" points=\"178.5,-139.607 175,-129.607 171.5,-139.607 178.5,-139.607\" stroke=\"black\"/>\n",
       "</g>\n",
       "<!-- 2324644283280 -->\n",
       "<g class=\"node\" id=\"node3\"><title>2324644283280</title>\n",
       "<polygon fill=\"none\" points=\"0,-0.5 0,-46.5 350,-46.5 350,-0.5 0,-0.5\" stroke=\"black\"/>\n",
       "<text font-family=\"Times New Roman,serif\" font-size=\"14.00\" text-anchor=\"middle\" x=\"64\" y=\"-19.8\">reshape_1: Reshape</text>\n",
       "<polyline fill=\"none\" points=\"128,-0.5 128,-46.5 \" stroke=\"black\"/>\n",
       "<text font-family=\"Times New Roman,serif\" font-size=\"14.00\" text-anchor=\"middle\" x=\"156\" y=\"-31.3\">input:</text>\n",
       "<polyline fill=\"none\" points=\"128,-23.5 184,-23.5 \" stroke=\"black\"/>\n",
       "<text font-family=\"Times New Roman,serif\" font-size=\"14.00\" text-anchor=\"middle\" x=\"156\" y=\"-8.3\">output:</text>\n",
       "<polyline fill=\"none\" points=\"184,-0.5 184,-46.5 \" stroke=\"black\"/>\n",
       "<text font-family=\"Times New Roman,serif\" font-size=\"14.00\" text-anchor=\"middle\" x=\"267\" y=\"-31.3\">(None, 47, Dimension(30))</text>\n",
       "<polyline fill=\"none\" points=\"184,-23.5 350,-23.5 \" stroke=\"black\"/>\n",
       "<text font-family=\"Times New Roman,serif\" font-size=\"14.00\" text-anchor=\"middle\" x=\"267\" y=\"-8.3\">(None, 47, 30)</text>\n",
       "</g>\n",
       "<!-- 2325015985120&#45;&gt;2324644283280 -->\n",
       "<g class=\"edge\" id=\"edge3\"><title>2325015985120-&gt;2324644283280</title>\n",
       "<path d=\"M175,-83.3664C175,-75.1516 175,-65.6579 175,-56.7252\" fill=\"none\" stroke=\"black\"/>\n",
       "<polygon fill=\"black\" points=\"178.5,-56.6068 175,-46.6068 171.5,-56.6069 178.5,-56.6068\" stroke=\"black\"/>\n",
       "</g>\n",
       "<!-- 2325015982656 -->\n",
       "<g class=\"node\" id=\"node4\"><title>2325015982656</title>\n",
       "<polygon fill=\"none\" points=\"123,-249.5 123,-285.5 227,-285.5 227,-249.5 123,-249.5\" stroke=\"black\"/>\n",
       "<text font-family=\"Times New Roman,serif\" font-size=\"14.00\" text-anchor=\"middle\" x=\"175\" y=\"-263.8\">2325015982656</text>\n",
       "</g>\n",
       "<!-- 2325015982656&#45;&gt;2325015982152 -->\n",
       "<g class=\"edge\" id=\"edge1\"><title>2325015982656-&gt;2325015982152</title>\n",
       "<path d=\"M175,-249.254C175,-241.363 175,-231.749 175,-222.602\" fill=\"none\" stroke=\"black\"/>\n",
       "<polygon fill=\"black\" points=\"178.5,-222.591 175,-212.591 171.5,-222.591 178.5,-222.591\" stroke=\"black\"/>\n",
       "</g>\n",
       "</g>\n",
       "</svg>"
      ],
      "text/plain": [
       "<IPython.core.display.SVG object>"
      ]
     },
     "execution_count": 5,
     "metadata": {},
     "output_type": "execute_result"
    }
   ],
   "source": [
    "from IPython.display import SVG\n",
    "from keras.utils.vis_utils import model_to_dot\n",
    "\n",
    "%matplotlib inline\n",
    "\n",
    "SVG(model_to_dot(model, show_shapes=True).create(prog='dot', format='svg'))"
   ]
  },
  {
   "cell_type": "code",
   "execution_count": 4,
   "metadata": {},
   "outputs": [
    {
     "data": {
      "image/svg+xml": [
       "<svg height=\"211pt\" viewBox=\"0.00 0.00 338.00 211.00\" width=\"338pt\" xmlns=\"http://www.w3.org/2000/svg\" xmlns:xlink=\"http://www.w3.org/1999/xlink\">\n",
       "<g class=\"graph\" id=\"graph0\" transform=\"scale(1 1) rotate(0) translate(4 207)\">\n",
       "<title>G</title>\n",
       "<polygon fill=\"white\" points=\"-4,4 -4,-207 334,-207 334,4 -4,4\" stroke=\"none\"/>\n",
       "<!-- 2627320226200 -->\n",
       "<g class=\"node\" id=\"node1\"><title>2627320226200</title>\n",
       "<polygon fill=\"none\" points=\"6.5,-83.5 6.5,-129.5 323.5,-129.5 323.5,-83.5 6.5,-83.5\" stroke=\"black\"/>\n",
       "<text font-family=\"Times New Roman,serif\" font-size=\"14.00\" text-anchor=\"middle\" x=\"88\" y=\"-102.8\">embedding_1: Embedding</text>\n",
       "<polyline fill=\"none\" points=\"169.5,-83.5 169.5,-129.5 \" stroke=\"black\"/>\n",
       "<text font-family=\"Times New Roman,serif\" font-size=\"14.00\" text-anchor=\"middle\" x=\"197.5\" y=\"-114.3\">input:</text>\n",
       "<polyline fill=\"none\" points=\"169.5,-106.5 225.5,-106.5 \" stroke=\"black\"/>\n",
       "<text font-family=\"Times New Roman,serif\" font-size=\"14.00\" text-anchor=\"middle\" x=\"197.5\" y=\"-91.3\">output:</text>\n",
       "<polyline fill=\"none\" points=\"225.5,-83.5 225.5,-129.5 \" stroke=\"black\"/>\n",
       "<text font-family=\"Times New Roman,serif\" font-size=\"14.00\" text-anchor=\"middle\" x=\"274.5\" y=\"-114.3\">(None, 47)</text>\n",
       "<polyline fill=\"none\" points=\"225.5,-106.5 323.5,-106.5 \" stroke=\"black\"/>\n",
       "<text font-family=\"Times New Roman,serif\" font-size=\"14.00\" text-anchor=\"middle\" x=\"274.5\" y=\"-91.3\">(None, 47, 20)</text>\n",
       "</g>\n",
       "<!-- 2627320227656 -->\n",
       "<g class=\"node\" id=\"node2\"><title>2627320227656</title>\n",
       "<polygon fill=\"none\" points=\"0,-0.5 0,-46.5 330,-46.5 330,-0.5 0,-0.5\" stroke=\"black\"/>\n",
       "<text font-family=\"Times New Roman,serif\" font-size=\"14.00\" text-anchor=\"middle\" x=\"54\" y=\"-19.8\">model_1: Model</text>\n",
       "<polyline fill=\"none\" points=\"108,-0.5 108,-46.5 \" stroke=\"black\"/>\n",
       "<text font-family=\"Times New Roman,serif\" font-size=\"14.00\" text-anchor=\"middle\" x=\"136\" y=\"-31.3\">input:</text>\n",
       "<polyline fill=\"none\" points=\"108,-23.5 164,-23.5 \" stroke=\"black\"/>\n",
       "<text font-family=\"Times New Roman,serif\" font-size=\"14.00\" text-anchor=\"middle\" x=\"136\" y=\"-8.3\">output:</text>\n",
       "<polyline fill=\"none\" points=\"164,-0.5 164,-46.5 \" stroke=\"black\"/>\n",
       "<text font-family=\"Times New Roman,serif\" font-size=\"14.00\" text-anchor=\"middle\" x=\"247\" y=\"-31.3\">(None, 47, 20)</text>\n",
       "<polyline fill=\"none\" points=\"164,-23.5 330,-23.5 \" stroke=\"black\"/>\n",
       "<text font-family=\"Times New Roman,serif\" font-size=\"14.00\" text-anchor=\"middle\" x=\"247\" y=\"-8.3\">(None, 47, Dimension(30))</text>\n",
       "</g>\n",
       "<!-- 2627320226200&#45;&gt;2627320227656 -->\n",
       "<g class=\"edge\" id=\"edge2\"><title>2627320226200-&gt;2627320227656</title>\n",
       "<path d=\"M165,-83.3664C165,-75.1516 165,-65.6579 165,-56.7252\" fill=\"none\" stroke=\"black\"/>\n",
       "<polygon fill=\"black\" points=\"168.5,-56.6068 165,-46.6068 161.5,-56.6069 168.5,-56.6068\" stroke=\"black\"/>\n",
       "</g>\n",
       "<!-- 2627320226928 -->\n",
       "<g class=\"node\" id=\"node3\"><title>2627320226928</title>\n",
       "<polygon fill=\"none\" points=\"113,-166.5 113,-202.5 217,-202.5 217,-166.5 113,-166.5\" stroke=\"black\"/>\n",
       "<text font-family=\"Times New Roman,serif\" font-size=\"14.00\" text-anchor=\"middle\" x=\"165\" y=\"-180.8\">2627320226928</text>\n",
       "</g>\n",
       "<!-- 2627320226928&#45;&gt;2627320226200 -->\n",
       "<g class=\"edge\" id=\"edge1\"><title>2627320226928-&gt;2627320226200</title>\n",
       "<path d=\"M165,-166.254C165,-158.363 165,-148.749 165,-139.602\" fill=\"none\" stroke=\"black\"/>\n",
       "<polygon fill=\"black\" points=\"168.5,-139.591 165,-129.591 161.5,-139.591 168.5,-139.591\" stroke=\"black\"/>\n",
       "</g>\n",
       "</g>\n",
       "</svg>"
      ],
      "text/plain": [
       "<IPython.core.display.SVG object>"
      ]
     },
     "execution_count": 4,
     "metadata": {},
     "output_type": "execute_result"
    }
   ],
   "source": [
    "from IPython.display import SVG\n",
    "from keras.utils.vis_utils import model_to_dot\n",
    "\n",
    "%matplotlib inline\n",
    "\n",
    "SVG(model_to_dot(model, show_shapes=True).create(prog='dot', format='svg'))"
   ]
  },
  {
   "cell_type": "code",
   "execution_count": null,
   "metadata": {},
   "outputs": [],
   "source": []
  },
  {
   "cell_type": "code",
   "execution_count": null,
   "metadata": {},
   "outputs": [],
   "source": []
  },
  {
   "cell_type": "code",
   "execution_count": 7,
   "metadata": {},
   "outputs": [],
   "source": [
    "from dga_reader import load_data, DataReader"
   ]
  },
  {
   "cell_type": "code",
   "execution_count": 8,
   "metadata": {},
   "outputs": [
    {
     "name": "stdout",
     "output_type": "stream",
     "text": [
      "reading train\n",
      "actual longest token length is: 70\n",
      "size of char vocabulary: 40\n"
     ]
    }
   ],
   "source": [
    "char_vocab, char_tensors, char_lens, max_word_length = load_data('.\\\\dga_data', 70)\n",
    "train_reader = DataReader(char_tensors['train'], char_lens['train'], 128)"
   ]
  },
  {
   "cell_type": "code",
   "execution_count": 20,
   "metadata": {},
   "outputs": [],
   "source": [
    "tmp = None\n",
    "for x, y in train_reader.iter():\n",
    "    tmp = x\n",
    "    break"
   ]
  },
  {
   "cell_type": "code",
   "execution_count": 26,
   "metadata": {},
   "outputs": [
    {
     "data": {
      "text/plain": [
       "(128, 70)"
      ]
     },
     "execution_count": 26,
     "metadata": {},
     "output_type": "execute_result"
    }
   ],
   "source": [
    "tmp.shape"
   ]
  },
  {
   "cell_type": "code",
   "execution_count": null,
   "metadata": {},
   "outputs": [],
   "source": []
  }
 ],
 "metadata": {
  "kernelspec": {
   "display_name": "Python 3",
   "language": "python",
   "name": "python3"
  },
  "language_info": {
   "codemirror_mode": {
    "name": "ipython",
    "version": 3
   },
   "file_extension": ".py",
   "mimetype": "text/x-python",
   "name": "python",
   "nbconvert_exporter": "python",
   "pygments_lexer": "ipython3",
   "version": "3.7.1"
  }
 },
 "nbformat": 4,
 "nbformat_minor": 2
}
