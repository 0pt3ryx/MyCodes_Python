{
 "cells": [
  {
   "cell_type": "markdown",
   "metadata": {},
   "source": [
    "# Highway Network"
   ]
  },
  {
   "cell_type": "code",
   "execution_count": 1,
   "metadata": {},
   "outputs": [
    {
     "name": "stderr",
     "output_type": "stream",
     "text": [
      "Using TensorFlow backend.\n"
     ]
    }
   ],
   "source": [
    "from keras import backend as K\n",
    "from keras.engine.topology import Layer\n",
    "from keras.layers import Dense, Activation, Multiply, Add, Lambda\n",
    "from keras.initializers import Constant\n",
    "\n",
    "\n",
    "class Highway(Layer):\n",
    "\n",
    "    activation = None\n",
    "    transform_gate_bias = None\n",
    "\n",
    "    def __init__(self, activation='relu', transform_gate_bias=-1, **kwargs):\n",
    "        self.activation = activation\n",
    "        self.transform_gate_bias = transform_gate_bias\n",
    "        super(Highway, self).__init__(**kwargs)\n",
    "\n",
    "    def build(self, input_shape):\n",
    "        # Create a trainable weight variable for this layer.\n",
    "        dim = input_shape[-1]\n",
    "        transform_gate_bias_initializer = Constant(self.transform_gate_bias)\n",
    "        input_shape_dense_1 = input_shape[-1]\n",
    "        self.dense_1 = Dense(units=dim, bias_initializer=transform_gate_bias_initializer)\n",
    "        self.dense_1.build(input_shape)\n",
    "        self.dense_2 = Dense(units=dim)\n",
    "        self.dense_2.build(input_shape)\n",
    "        self.trainable_weights = self.dense_1.trainable_weights + self.dense_2.trainable_weights\n",
    "\n",
    "        super(Highway, self).build(input_shape)  # Be sure to call this at the end\n",
    "\n",
    "    def call(self, x):\n",
    "        dim = K.int_shape(x)[-1]\n",
    "        transform_gate = self.dense_1(x)\n",
    "        transform_gate = Activation(\"sigmoid\")(transform_gate)\n",
    "        carry_gate = Lambda(lambda x: 1.0 - x, output_shape=(dim,))(transform_gate)\n",
    "        transformed_data = self.dense_2(x)\n",
    "        transformed_data = Activation(self.activation)(transformed_data)\n",
    "        transformed_gated = Multiply()([transform_gate, transformed_data])\n",
    "        identity_gated = Multiply()([carry_gate, x])\n",
    "        value = Add()([transformed_gated, identity_gated])\n",
    "        return value\n",
    "\n",
    "    def compute_output_shape(self, input_shape):\n",
    "        return input_shape\n",
    "\n",
    "    def get_config(self):\n",
    "        config = super().get_config()\n",
    "        config['activation'] = self.activation\n",
    "        config['transform_gate_bias'] = self.transform_gate_bias\n",
    "        return config"
   ]
  },
  {
   "cell_type": "code",
   "execution_count": null,
   "metadata": {},
   "outputs": [],
   "source": []
  },
  {
   "cell_type": "code",
   "execution_count": null,
   "metadata": {},
   "outputs": [],
   "source": []
  },
  {
   "cell_type": "code",
   "execution_count": 9,
   "metadata": {},
   "outputs": [],
   "source": [
    "from keras.models import Sequential\n",
    "from keras.layers import Dense, Embedding, Conv1D, MaxPooling1D, concatenate, Permute, Reshape, LSTM\n",
    "from keras import Input, Model\n",
    "from keras.backend import transpose"
   ]
  },
  {
   "cell_type": "code",
   "execution_count": 3,
   "metadata": {},
   "outputs": [
    {
     "name": "stderr",
     "output_type": "stream",
     "text": [
      "WARNING: Logging before flag parsing goes to stderr.\n",
      "W0816 09:23:48.607167  2600 deprecation_wrapper.py:119] From C:\\Users\\JeongDo\\Anaconda3\\lib\\site-packages\\keras\\backend\\tensorflow_backend.py:74: The name tf.get_default_graph is deprecated. Please use tf.compat.v1.get_default_graph instead.\n",
      "\n",
      "W0816 09:23:48.619134  2600 deprecation_wrapper.py:119] From C:\\Users\\JeongDo\\Anaconda3\\lib\\site-packages\\keras\\backend\\tensorflow_backend.py:517: The name tf.placeholder is deprecated. Please use tf.compat.v1.placeholder instead.\n",
      "\n",
      "W0816 09:23:48.620132  2600 deprecation_wrapper.py:119] From C:\\Users\\JeongDo\\Anaconda3\\lib\\site-packages\\keras\\backend\\tensorflow_backend.py:4138: The name tf.random_uniform is deprecated. Please use tf.random.uniform instead.\n",
      "\n",
      "W0816 09:23:48.639102  2600 deprecation_wrapper.py:119] From C:\\Users\\JeongDo\\Anaconda3\\lib\\site-packages\\keras\\backend\\tensorflow_backend.py:3976: The name tf.nn.max_pool is deprecated. Please use tf.nn.max_pool2d instead.\n",
      "\n",
      "C:\\Users\\JeongDo\\Anaconda3\\lib\\site-packages\\ipykernel_launcher.py:24: UserWarning: Update your `Model` call to the Keras 2 API: `Model(inputs=Tensor(\"in..., outputs=Tensor(\"co...)`\n"
     ]
    }
   ],
   "source": [
    "# Modify 'num_of_train_domains' and 'max_domain_length'\n",
    "num_of_train_domains = 1200000\n",
    "max_domain_length = 47\n",
    "char_embed_size = 20\n",
    "\n",
    "model = Sequential()\n",
    "model.add(Embedding(num_of_train_domains, char_embed_size, input_length=max_domain_length))\n",
    "\n",
    "conv_input = Input(shape=(47, 20))\n",
    "pool_size = ()\n",
    "conv_layers = list()\n",
    "\n",
    "kernels=[2] * 20 + [3] * 10\n",
    "for kernel_size in kernels:\n",
    "    conv = Conv1D(32, kernel_size, strides=1, padding='same')(conv_input)\n",
    "    permuted_conv = Permute((2, 1))(conv)\n",
    "    pool = MaxPooling1D([permuted_conv.get_shape()[1]], strides=1, padding='valid')(permuted_conv)\n",
    "    permuted_pool = Permute((2, 1))(pool)\n",
    "    \n",
    "    conv_layers.append(permuted_pool)\n",
    "\n",
    "# conv_out = Concatenate()(conv_layers)\n",
    "conv_out = concatenate(conv_layers, axis=2)\n",
    "conv_model = Model(input=conv_input, output=conv_out)\n",
    "\n",
    "model.add(conv_model)"
   ]
  },
  {
   "cell_type": "code",
   "execution_count": 4,
   "metadata": {},
   "outputs": [],
   "source": [
    "model.add(Reshape((max_domain_length, -1)))"
   ]
  },
  {
   "cell_type": "code",
   "execution_count": 22,
   "metadata": {},
   "outputs": [],
   "source": [
    "# from keras.legacy.layers import Highway"
   ]
  },
  {
   "cell_type": "code",
   "execution_count": 7,
   "metadata": {},
   "outputs": [],
   "source": [
    "model.add(Highway(input_shape=(30, ) ))"
   ]
  },
  {
   "cell_type": "code",
   "execution_count": 10,
   "metadata": {},
   "outputs": [
    {
     "ename": "TypeError",
     "evalue": "__init__() missing 1 required positional argument: 'units'",
     "output_type": "error",
     "traceback": [
      "\u001b[1;31m---------------------------------------------------------------------------\u001b[0m",
      "\u001b[1;31mTypeError\u001b[0m                                 Traceback (most recent call last)",
      "\u001b[1;32m<ipython-input-10-66398d051ca8>\u001b[0m in \u001b[0;36m<module>\u001b[1;34m\u001b[0m\n\u001b[1;32m----> 1\u001b[1;33m \u001b[0mmodel\u001b[0m\u001b[1;33m.\u001b[0m\u001b[0madd\u001b[0m\u001b[1;33m(\u001b[0m\u001b[0mLSTM\u001b[0m\u001b[1;33m(\u001b[0m\u001b[1;33m)\u001b[0m\u001b[1;33m)\u001b[0m\u001b[1;33m\u001b[0m\u001b[1;33m\u001b[0m\u001b[0m\n\u001b[0m",
      "\u001b[1;32m~\\Anaconda3\\lib\\site-packages\\keras\\legacy\\interfaces.py\u001b[0m in \u001b[0;36mwrapper\u001b[1;34m(*args, **kwargs)\u001b[0m\n\u001b[0;32m     89\u001b[0m                 warnings.warn('Update your `' + object_name + '` call to the ' +\n\u001b[0;32m     90\u001b[0m                               'Keras 2 API: ' + signature, stacklevel=2)\n\u001b[1;32m---> 91\u001b[1;33m             \u001b[1;32mreturn\u001b[0m \u001b[0mfunc\u001b[0m\u001b[1;33m(\u001b[0m\u001b[1;33m*\u001b[0m\u001b[0margs\u001b[0m\u001b[1;33m,\u001b[0m \u001b[1;33m**\u001b[0m\u001b[0mkwargs\u001b[0m\u001b[1;33m)\u001b[0m\u001b[1;33m\u001b[0m\u001b[1;33m\u001b[0m\u001b[0m\n\u001b[0m\u001b[0;32m     92\u001b[0m         \u001b[0mwrapper\u001b[0m\u001b[1;33m.\u001b[0m\u001b[0m_original_function\u001b[0m \u001b[1;33m=\u001b[0m \u001b[0mfunc\u001b[0m\u001b[1;33m\u001b[0m\u001b[1;33m\u001b[0m\u001b[0m\n\u001b[0;32m     93\u001b[0m         \u001b[1;32mreturn\u001b[0m \u001b[0mwrapper\u001b[0m\u001b[1;33m\u001b[0m\u001b[1;33m\u001b[0m\u001b[0m\n",
      "\u001b[1;31mTypeError\u001b[0m: __init__() missing 1 required positional argument: 'units'"
     ]
    }
   ],
   "source": [
    "model.add(LSTM())"
   ]
  },
  {
   "cell_type": "code",
   "execution_count": 10,
   "metadata": {},
   "outputs": [
    {
     "name": "stdout",
     "output_type": "stream",
     "text": [
      "[[ 1  2  3]\n",
      " [ 4  5  6]\n",
      " [ 7  8  9]\n",
      " [10 11 12]]\n"
     ]
    }
   ],
   "source": []
  },
  {
   "cell_type": "code",
   "execution_count": 11,
   "metadata": {},
   "outputs": [
    {
     "name": "stdout",
     "output_type": "stream",
     "text": [
      "[[ 1  2  3  7  8  9]\n",
      " [ 4  5  6 10 11 12]]\n"
     ]
    }
   ],
   "source": []
  },
  {
   "cell_type": "code",
   "execution_count": 16,
   "metadata": {},
   "outputs": [
    {
     "name": "stdout",
     "output_type": "stream",
     "text": [
      "(4, 3)\n"
     ]
    }
   ],
   "source": []
  },
  {
   "cell_type": "code",
   "execution_count": null,
   "metadata": {},
   "outputs": [],
   "source": []
  },
  {
   "cell_type": "markdown",
   "metadata": {},
   "source": [
    "# 모델 시각화"
   ]
  },
  {
   "cell_type": "code",
   "execution_count": 5,
   "metadata": {},
   "outputs": [
    {
     "data": {
      "image/svg+xml": [
       "<svg height=\"294pt\" viewBox=\"0.00 0.00 358.00 294.00\" width=\"358pt\" xmlns=\"http://www.w3.org/2000/svg\" xmlns:xlink=\"http://www.w3.org/1999/xlink\">\n",
       "<g class=\"graph\" id=\"graph0\" transform=\"scale(1 1) rotate(0) translate(4 290)\">\n",
       "<title>G</title>\n",
       "<polygon fill=\"white\" points=\"-4,4 -4,-290 354,-290 354,4 -4,4\" stroke=\"none\"/>\n",
       "<!-- 2325015982152 -->\n",
       "<g class=\"node\" id=\"node1\"><title>2325015982152</title>\n",
       "<polygon fill=\"none\" points=\"16.5,-166.5 16.5,-212.5 333.5,-212.5 333.5,-166.5 16.5,-166.5\" stroke=\"black\"/>\n",
       "<text font-family=\"Times New Roman,serif\" font-size=\"14.00\" text-anchor=\"middle\" x=\"98\" y=\"-185.8\">embedding_1: Embedding</text>\n",
       "<polyline fill=\"none\" points=\"179.5,-166.5 179.5,-212.5 \" stroke=\"black\"/>\n",
       "<text font-family=\"Times New Roman,serif\" font-size=\"14.00\" text-anchor=\"middle\" x=\"207.5\" y=\"-197.3\">input:</text>\n",
       "<polyline fill=\"none\" points=\"179.5,-189.5 235.5,-189.5 \" stroke=\"black\"/>\n",
       "<text font-family=\"Times New Roman,serif\" font-size=\"14.00\" text-anchor=\"middle\" x=\"207.5\" y=\"-174.3\">output:</text>\n",
       "<polyline fill=\"none\" points=\"235.5,-166.5 235.5,-212.5 \" stroke=\"black\"/>\n",
       "<text font-family=\"Times New Roman,serif\" font-size=\"14.00\" text-anchor=\"middle\" x=\"284.5\" y=\"-197.3\">(None, 47)</text>\n",
       "<polyline fill=\"none\" points=\"235.5,-189.5 333.5,-189.5 \" stroke=\"black\"/>\n",
       "<text font-family=\"Times New Roman,serif\" font-size=\"14.00\" text-anchor=\"middle\" x=\"284.5\" y=\"-174.3\">(None, 47, 20)</text>\n",
       "</g>\n",
       "<!-- 2325015985120 -->\n",
       "<g class=\"node\" id=\"node2\"><title>2325015985120</title>\n",
       "<polygon fill=\"none\" points=\"10,-83.5 10,-129.5 340,-129.5 340,-83.5 10,-83.5\" stroke=\"black\"/>\n",
       "<text font-family=\"Times New Roman,serif\" font-size=\"14.00\" text-anchor=\"middle\" x=\"64\" y=\"-102.8\">model_1: Model</text>\n",
       "<polyline fill=\"none\" points=\"118,-83.5 118,-129.5 \" stroke=\"black\"/>\n",
       "<text font-family=\"Times New Roman,serif\" font-size=\"14.00\" text-anchor=\"middle\" x=\"146\" y=\"-114.3\">input:</text>\n",
       "<polyline fill=\"none\" points=\"118,-106.5 174,-106.5 \" stroke=\"black\"/>\n",
       "<text font-family=\"Times New Roman,serif\" font-size=\"14.00\" text-anchor=\"middle\" x=\"146\" y=\"-91.3\">output:</text>\n",
       "<polyline fill=\"none\" points=\"174,-83.5 174,-129.5 \" stroke=\"black\"/>\n",
       "<text font-family=\"Times New Roman,serif\" font-size=\"14.00\" text-anchor=\"middle\" x=\"257\" y=\"-114.3\">(None, 47, 20)</text>\n",
       "<polyline fill=\"none\" points=\"174,-106.5 340,-106.5 \" stroke=\"black\"/>\n",
       "<text font-family=\"Times New Roman,serif\" font-size=\"14.00\" text-anchor=\"middle\" x=\"257\" y=\"-91.3\">(None, 47, Dimension(30))</text>\n",
       "</g>\n",
       "<!-- 2325015982152&#45;&gt;2325015985120 -->\n",
       "<g class=\"edge\" id=\"edge2\"><title>2325015982152-&gt;2325015985120</title>\n",
       "<path d=\"M175,-166.366C175,-158.152 175,-148.658 175,-139.725\" fill=\"none\" stroke=\"black\"/>\n",
       "<polygon fill=\"black\" points=\"178.5,-139.607 175,-129.607 171.5,-139.607 178.5,-139.607\" stroke=\"black\"/>\n",
       "</g>\n",
       "<!-- 2324644283280 -->\n",
       "<g class=\"node\" id=\"node3\"><title>2324644283280</title>\n",
       "<polygon fill=\"none\" points=\"0,-0.5 0,-46.5 350,-46.5 350,-0.5 0,-0.5\" stroke=\"black\"/>\n",
       "<text font-family=\"Times New Roman,serif\" font-size=\"14.00\" text-anchor=\"middle\" x=\"64\" y=\"-19.8\">reshape_1: Reshape</text>\n",
       "<polyline fill=\"none\" points=\"128,-0.5 128,-46.5 \" stroke=\"black\"/>\n",
       "<text font-family=\"Times New Roman,serif\" font-size=\"14.00\" text-anchor=\"middle\" x=\"156\" y=\"-31.3\">input:</text>\n",
       "<polyline fill=\"none\" points=\"128,-23.5 184,-23.5 \" stroke=\"black\"/>\n",
       "<text font-family=\"Times New Roman,serif\" font-size=\"14.00\" text-anchor=\"middle\" x=\"156\" y=\"-8.3\">output:</text>\n",
       "<polyline fill=\"none\" points=\"184,-0.5 184,-46.5 \" stroke=\"black\"/>\n",
       "<text font-family=\"Times New Roman,serif\" font-size=\"14.00\" text-anchor=\"middle\" x=\"267\" y=\"-31.3\">(None, 47, Dimension(30))</text>\n",
       "<polyline fill=\"none\" points=\"184,-23.5 350,-23.5 \" stroke=\"black\"/>\n",
       "<text font-family=\"Times New Roman,serif\" font-size=\"14.00\" text-anchor=\"middle\" x=\"267\" y=\"-8.3\">(None, 47, 30)</text>\n",
       "</g>\n",
       "<!-- 2325015985120&#45;&gt;2324644283280 -->\n",
       "<g class=\"edge\" id=\"edge3\"><title>2325015985120-&gt;2324644283280</title>\n",
       "<path d=\"M175,-83.3664C175,-75.1516 175,-65.6579 175,-56.7252\" fill=\"none\" stroke=\"black\"/>\n",
       "<polygon fill=\"black\" points=\"178.5,-56.6068 175,-46.6068 171.5,-56.6069 178.5,-56.6068\" stroke=\"black\"/>\n",
       "</g>\n",
       "<!-- 2325015982656 -->\n",
       "<g class=\"node\" id=\"node4\"><title>2325015982656</title>\n",
       "<polygon fill=\"none\" points=\"123,-249.5 123,-285.5 227,-285.5 227,-249.5 123,-249.5\" stroke=\"black\"/>\n",
       "<text font-family=\"Times New Roman,serif\" font-size=\"14.00\" text-anchor=\"middle\" x=\"175\" y=\"-263.8\">2325015982656</text>\n",
       "</g>\n",
       "<!-- 2325015982656&#45;&gt;2325015982152 -->\n",
       "<g class=\"edge\" id=\"edge1\"><title>2325015982656-&gt;2325015982152</title>\n",
       "<path d=\"M175,-249.254C175,-241.363 175,-231.749 175,-222.602\" fill=\"none\" stroke=\"black\"/>\n",
       "<polygon fill=\"black\" points=\"178.5,-222.591 175,-212.591 171.5,-222.591 178.5,-222.591\" stroke=\"black\"/>\n",
       "</g>\n",
       "</g>\n",
       "</svg>"
      ],
      "text/plain": [
       "<IPython.core.display.SVG object>"
      ]
     },
     "execution_count": 5,
     "metadata": {},
     "output_type": "execute_result"
    }
   ],
   "source": [
    "from IPython.display import SVG\n",
    "from keras.utils.vis_utils import model_to_dot\n",
    "\n",
    "%matplotlib inline\n",
    "\n",
    "SVG(model_to_dot(model, show_shapes=True).create(prog='dot', format='svg'))"
   ]
  },
  {
   "cell_type": "code",
   "execution_count": 8,
   "metadata": {},
   "outputs": [
    {
     "data": {
      "image/svg+xml": [
       "<svg height=\"377pt\" viewBox=\"0.00 0.00 358.00 377.00\" width=\"358pt\" xmlns=\"http://www.w3.org/2000/svg\" xmlns:xlink=\"http://www.w3.org/1999/xlink\">\n",
       "<g class=\"graph\" id=\"graph0\" transform=\"scale(1 1) rotate(0) translate(4 373)\">\n",
       "<title>G</title>\n",
       "<polygon fill=\"white\" points=\"-4,4 -4,-373 354,-373 354,4 -4,4\" stroke=\"none\"/>\n",
       "<!-- 2325015982152 -->\n",
       "<g class=\"node\" id=\"node1\"><title>2325015982152</title>\n",
       "<polygon fill=\"none\" points=\"16.5,-249.5 16.5,-295.5 333.5,-295.5 333.5,-249.5 16.5,-249.5\" stroke=\"black\"/>\n",
       "<text font-family=\"Times New Roman,serif\" font-size=\"14.00\" text-anchor=\"middle\" x=\"98\" y=\"-268.8\">embedding_1: Embedding</text>\n",
       "<polyline fill=\"none\" points=\"179.5,-249.5 179.5,-295.5 \" stroke=\"black\"/>\n",
       "<text font-family=\"Times New Roman,serif\" font-size=\"14.00\" text-anchor=\"middle\" x=\"207.5\" y=\"-280.3\">input:</text>\n",
       "<polyline fill=\"none\" points=\"179.5,-272.5 235.5,-272.5 \" stroke=\"black\"/>\n",
       "<text font-family=\"Times New Roman,serif\" font-size=\"14.00\" text-anchor=\"middle\" x=\"207.5\" y=\"-257.3\">output:</text>\n",
       "<polyline fill=\"none\" points=\"235.5,-249.5 235.5,-295.5 \" stroke=\"black\"/>\n",
       "<text font-family=\"Times New Roman,serif\" font-size=\"14.00\" text-anchor=\"middle\" x=\"284.5\" y=\"-280.3\">(None, 47)</text>\n",
       "<polyline fill=\"none\" points=\"235.5,-272.5 333.5,-272.5 \" stroke=\"black\"/>\n",
       "<text font-family=\"Times New Roman,serif\" font-size=\"14.00\" text-anchor=\"middle\" x=\"284.5\" y=\"-257.3\">(None, 47, 20)</text>\n",
       "</g>\n",
       "<!-- 2325015985120 -->\n",
       "<g class=\"node\" id=\"node2\"><title>2325015985120</title>\n",
       "<polygon fill=\"none\" points=\"10,-166.5 10,-212.5 340,-212.5 340,-166.5 10,-166.5\" stroke=\"black\"/>\n",
       "<text font-family=\"Times New Roman,serif\" font-size=\"14.00\" text-anchor=\"middle\" x=\"64\" y=\"-185.8\">model_1: Model</text>\n",
       "<polyline fill=\"none\" points=\"118,-166.5 118,-212.5 \" stroke=\"black\"/>\n",
       "<text font-family=\"Times New Roman,serif\" font-size=\"14.00\" text-anchor=\"middle\" x=\"146\" y=\"-197.3\">input:</text>\n",
       "<polyline fill=\"none\" points=\"118,-189.5 174,-189.5 \" stroke=\"black\"/>\n",
       "<text font-family=\"Times New Roman,serif\" font-size=\"14.00\" text-anchor=\"middle\" x=\"146\" y=\"-174.3\">output:</text>\n",
       "<polyline fill=\"none\" points=\"174,-166.5 174,-212.5 \" stroke=\"black\"/>\n",
       "<text font-family=\"Times New Roman,serif\" font-size=\"14.00\" text-anchor=\"middle\" x=\"257\" y=\"-197.3\">(None, 47, 20)</text>\n",
       "<polyline fill=\"none\" points=\"174,-189.5 340,-189.5 \" stroke=\"black\"/>\n",
       "<text font-family=\"Times New Roman,serif\" font-size=\"14.00\" text-anchor=\"middle\" x=\"257\" y=\"-174.3\">(None, 47, Dimension(30))</text>\n",
       "</g>\n",
       "<!-- 2325015982152&#45;&gt;2325015985120 -->\n",
       "<g class=\"edge\" id=\"edge2\"><title>2325015982152-&gt;2325015985120</title>\n",
       "<path d=\"M175,-249.366C175,-241.152 175,-231.658 175,-222.725\" fill=\"none\" stroke=\"black\"/>\n",
       "<polygon fill=\"black\" points=\"178.5,-222.607 175,-212.607 171.5,-222.607 178.5,-222.607\" stroke=\"black\"/>\n",
       "</g>\n",
       "<!-- 2324644283280 -->\n",
       "<g class=\"node\" id=\"node3\"><title>2324644283280</title>\n",
       "<polygon fill=\"none\" points=\"0,-83.5 0,-129.5 350,-129.5 350,-83.5 0,-83.5\" stroke=\"black\"/>\n",
       "<text font-family=\"Times New Roman,serif\" font-size=\"14.00\" text-anchor=\"middle\" x=\"64\" y=\"-102.8\">reshape_1: Reshape</text>\n",
       "<polyline fill=\"none\" points=\"128,-83.5 128,-129.5 \" stroke=\"black\"/>\n",
       "<text font-family=\"Times New Roman,serif\" font-size=\"14.00\" text-anchor=\"middle\" x=\"156\" y=\"-114.3\">input:</text>\n",
       "<polyline fill=\"none\" points=\"128,-106.5 184,-106.5 \" stroke=\"black\"/>\n",
       "<text font-family=\"Times New Roman,serif\" font-size=\"14.00\" text-anchor=\"middle\" x=\"156\" y=\"-91.3\">output:</text>\n",
       "<polyline fill=\"none\" points=\"184,-83.5 184,-129.5 \" stroke=\"black\"/>\n",
       "<text font-family=\"Times New Roman,serif\" font-size=\"14.00\" text-anchor=\"middle\" x=\"267\" y=\"-114.3\">(None, 47, Dimension(30))</text>\n",
       "<polyline fill=\"none\" points=\"184,-106.5 350,-106.5 \" stroke=\"black\"/>\n",
       "<text font-family=\"Times New Roman,serif\" font-size=\"14.00\" text-anchor=\"middle\" x=\"267\" y=\"-91.3\">(None, 47, 30)</text>\n",
       "</g>\n",
       "<!-- 2325015985120&#45;&gt;2324644283280 -->\n",
       "<g class=\"edge\" id=\"edge3\"><title>2325015985120-&gt;2324644283280</title>\n",
       "<path d=\"M175,-166.366C175,-158.152 175,-148.658 175,-139.725\" fill=\"none\" stroke=\"black\"/>\n",
       "<polygon fill=\"black\" points=\"178.5,-139.607 175,-129.607 171.5,-139.607 178.5,-139.607\" stroke=\"black\"/>\n",
       "</g>\n",
       "<!-- 2325053316568 -->\n",
       "<g class=\"node\" id=\"node4\"><title>2325053316568</title>\n",
       "<polygon fill=\"none\" points=\"32,-0.5 32,-46.5 318,-46.5 318,-0.5 32,-0.5\" stroke=\"black\"/>\n",
       "<text font-family=\"Times New Roman,serif\" font-size=\"14.00\" text-anchor=\"middle\" x=\"98\" y=\"-19.8\">highway_2: Highway</text>\n",
       "<polyline fill=\"none\" points=\"164,-0.5 164,-46.5 \" stroke=\"black\"/>\n",
       "<text font-family=\"Times New Roman,serif\" font-size=\"14.00\" text-anchor=\"middle\" x=\"192\" y=\"-31.3\">input:</text>\n",
       "<polyline fill=\"none\" points=\"164,-23.5 220,-23.5 \" stroke=\"black\"/>\n",
       "<text font-family=\"Times New Roman,serif\" font-size=\"14.00\" text-anchor=\"middle\" x=\"192\" y=\"-8.3\">output:</text>\n",
       "<polyline fill=\"none\" points=\"220,-0.5 220,-46.5 \" stroke=\"black\"/>\n",
       "<text font-family=\"Times New Roman,serif\" font-size=\"14.00\" text-anchor=\"middle\" x=\"269\" y=\"-31.3\">(None, 47, 30)</text>\n",
       "<polyline fill=\"none\" points=\"220,-23.5 318,-23.5 \" stroke=\"black\"/>\n",
       "<text font-family=\"Times New Roman,serif\" font-size=\"14.00\" text-anchor=\"middle\" x=\"269\" y=\"-8.3\">(None, 47, 30)</text>\n",
       "</g>\n",
       "<!-- 2324644283280&#45;&gt;2325053316568 -->\n",
       "<g class=\"edge\" id=\"edge4\"><title>2324644283280-&gt;2325053316568</title>\n",
       "<path d=\"M175,-83.3664C175,-75.1516 175,-65.6579 175,-56.7252\" fill=\"none\" stroke=\"black\"/>\n",
       "<polygon fill=\"black\" points=\"178.5,-56.6068 175,-46.6068 171.5,-56.6069 178.5,-56.6068\" stroke=\"black\"/>\n",
       "</g>\n",
       "<!-- 2325015982656 -->\n",
       "<g class=\"node\" id=\"node5\"><title>2325015982656</title>\n",
       "<polygon fill=\"none\" points=\"123,-332.5 123,-368.5 227,-368.5 227,-332.5 123,-332.5\" stroke=\"black\"/>\n",
       "<text font-family=\"Times New Roman,serif\" font-size=\"14.00\" text-anchor=\"middle\" x=\"175\" y=\"-346.8\">2325015982656</text>\n",
       "</g>\n",
       "<!-- 2325015982656&#45;&gt;2325015982152 -->\n",
       "<g class=\"edge\" id=\"edge1\"><title>2325015982656-&gt;2325015982152</title>\n",
       "<path d=\"M175,-332.254C175,-324.363 175,-314.749 175,-305.602\" fill=\"none\" stroke=\"black\"/>\n",
       "<polygon fill=\"black\" points=\"178.5,-305.591 175,-295.591 171.5,-305.591 178.5,-305.591\" stroke=\"black\"/>\n",
       "</g>\n",
       "</g>\n",
       "</svg>"
      ],
      "text/plain": [
       "<IPython.core.display.SVG object>"
      ]
     },
     "execution_count": 8,
     "metadata": {},
     "output_type": "execute_result"
    }
   ],
   "source": [
    "from IPython.display import SVG\n",
    "from keras.utils.vis_utils import model_to_dot\n",
    "\n",
    "%matplotlib inline\n",
    "\n",
    "SVG(model_to_dot(model, show_shapes=True).create(prog='dot', format='svg'))"
   ]
  },
  {
   "cell_type": "code",
   "execution_count": null,
   "metadata": {},
   "outputs": [],
   "source": []
  }
 ],
 "metadata": {
  "kernelspec": {
   "display_name": "Python 3",
   "language": "python",
   "name": "python3"
  },
  "language_info": {
   "codemirror_mode": {
    "name": "ipython",
    "version": 3
   },
   "file_extension": ".py",
   "mimetype": "text/x-python",
   "name": "python",
   "nbconvert_exporter": "python",
   "pygments_lexer": "ipython3",
   "version": "3.7.1"
  }
 },
 "nbformat": 4,
 "nbformat_minor": 2
}
